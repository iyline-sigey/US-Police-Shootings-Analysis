{
  "nbformat": 4,
  "nbformat_minor": 0,
  "metadata": {
    "colab": {
      "name": "Ian_v2_Copy of US_POLICE SHOOTING.ipynb",
      "provenance": [],
      "collapsed_sections": [
        "JjMyGBIGoWLw",
        "8Xg2XcyPMijp",
        "j2mrGSNIMyCC",
        "lMnWZLmVM4oE",
        "9O-9MITedliL",
        "IKVUsF8P-CKq",
        "8C08FlQrZZ3h"
      ]
    },
    "kernelspec": {
      "name": "python3",
      "display_name": "Python 3"
    },
    "language_info": {
      "name": "python"
    }
  },
  "cells": [
    {
      "cell_type": "markdown",
      "metadata": {
        "id": "1NskKIu5E3Wc"
      },
      "source": [
        "# Describing our Question"
      ]
    },
    {
      "cell_type": "markdown",
      "metadata": {
        "id": "BSQuF59dlYnu"
      },
      "source": [
        "**a) Understanding the context**\n",
        "\n",
        "The trend of fatal police shootings has been increasing since 2015. The rate of fatal police shootings in the United States shows a large difference based on ethnicity. This study therefore seeks  to investigate the main factors that influence police shootings in the United States  in order to  understand police decision making while conducting suspect arrest.\n",
        "\n",
        "\n",
        "**b) Specifying the Question**\n",
        "\n",
        "To investigate the main factors that influence police shootings in the United States  in order to  understand police decision making while conducting suspect arrest. \n",
        "\n",
        "\n",
        "**b) Defining the Metric of success**\n",
        "\n",
        "The analysis to be considered successful we shall provide insights on the factors that highly influence police shootings in the United States  and understand police decision making while conducting suspect arrest and correctly test our hypotheses.\n",
        "\n",
        "\n",
        "**d)  Recording the Expereimental Design**\n",
        "\n",
        "The following steps shall be followed:\n",
        "\n",
        "*   Defining the Question\n",
        "*   Reading the Data.\n",
        "*   Exploring the Data.\n",
        "*   Data Cleaning\n",
        "*   Exploratory Data analysis (Performing Univariate and Bivariate Analysis)\n",
        "*   Creating Visualizations.\n",
        "*   Hypothesis Testing.\n",
        "*  Summary"
      ]
    },
    {
      "cell_type": "markdown",
      "metadata": {
        "id": "CXjliVqQnTP6"
      },
      "source": [
        "#**1. DEFINING THE HYPOTHESIS**"
      ]
    },
    {
      "cell_type": "markdown",
      "metadata": {
        "id": "KJB3mU6_nexs"
      },
      "source": [
        "##1a. Overview\n"
      ]
    },
    {
      "cell_type": "markdown",
      "metadata": {
        "id": "uWLrJ3hy2fGi"
      },
      "source": [
        "\n",
        "Null hypothesis: Type null hypothesis here\n",
        "\n",
        "Alternative hypothesis: Type alt hyopthesis here\n",
        "\n",
        "Keys\n",
        "\n",
        "$H_{0}$ = Null hypothesis\n",
        "\n",
        "$H_{1}$ = Alternative hypothesis\n",
        "\n",
        "$mu_{1}$ = Type variable here (mean)\n",
        "\n",
        "$mu_{2}$ = Type variable here (mean)\n",
        "\n",
        "$H_{0}$: $mu_{1}$ = $mu_{2}$\n",
        "\n",
        "\n",
        "$H_{1}$: $mu_{1}$ ≠ $mu_{2}$"
      ]
    },
    {
      "cell_type": "markdown",
      "metadata": {
        "id": "E_BkTxl_nw_b"
      },
      "source": [
        "##1b. Research Question"
      ]
    },
    {
      "cell_type": "markdown",
      "metadata": {
        "id": "YfcXizg-2jma"
      },
      "source": [
        "1. What are  the main factors influencing police shootings?\n",
        "2. Are the police  biased towards certain individuals?\n",
        "3. How are police shootings distributed across different states and cities?\n"
      ]
    },
    {
      "cell_type": "markdown",
      "metadata": {
        "id": "JjMyGBIGoWLw"
      },
      "source": [
        "##1c. Sampling Strategy"
      ]
    },
    {
      "cell_type": "markdown",
      "metadata": {
        "id": "8Xg2XcyPMijp"
      },
      "source": [
        "###Sampling Plan"
      ]
    },
    {
      "cell_type": "markdown",
      "metadata": {
        "id": "j2mrGSNIMyCC"
      },
      "source": [
        "###Sampling Method"
      ]
    },
    {
      "cell_type": "markdown",
      "metadata": {
        "id": "lMnWZLmVM4oE"
      },
      "source": [
        "###Sample Size"
      ]
    },
    {
      "cell_type": "markdown",
      "metadata": {
        "id": "TQHKdf8Riavt"
      },
      "source": [
        ""
      ]
    },
    {
      "cell_type": "markdown",
      "metadata": {
        "id": "JkCn3IHM7Prb"
      },
      "source": [
        "# **2. IMPORTING LIBRARIES**\n",
        "\n",
        "\n"
      ]
    },
    {
      "cell_type": "code",
      "metadata": {
        "id": "oE_1yQq64t5y"
      },
      "source": [
        "# import pandas\n",
        "\n",
        "import pandas as pd\n",
        "\n",
        "# import numpy\n",
        "\n",
        "import numpy as np\n",
        "\n",
        "# import datetime\n",
        "\n",
        "import datetime\n",
        "\n",
        "# import seaborn\n",
        "\n",
        "import seaborn as sns\n",
        "\n",
        "# import matplotlib\n",
        "\n",
        "import matplotlib.pyplot as plt\n",
        "%matplotlib notebook\n",
        "\n",
        "# import pandas profiling\n",
        "\n",
        "import pandas_profiling\n",
        "\n",
        "# immport scipy\n",
        "\n",
        "import scipy.stats as stats\n",
        "\n",
        "#import math\n",
        "\n",
        "from math import sqrt\n",
        "\n",
        "#import ttest\n",
        "from scipy.stats import ttest_ind\n",
        "\n",
        "from scipy.stats import t\n",
        "\n",
        "from sklearn.preprocessing import LabelEncoder\n",
        "\n",
        "import scipy"
      ],
      "execution_count": null,
      "outputs": []
    },
    {
      "cell_type": "markdown",
      "metadata": {
        "id": "XLi659rt9FrO"
      },
      "source": [
        "# **3. LOADING OUR DATASETS**"
      ]
    },
    {
      "cell_type": "code",
      "metadata": {
        "id": "8_GccHdY9M48"
      },
      "source": [
        "#loading our dataset\n",
        "url = '/content/Us_shootings.csv'\n",
        "df = pd.read_csv(url)\n"
      ],
      "execution_count": null,
      "outputs": []
    },
    {
      "cell_type": "code",
      "metadata": {
        "id": "UrUATHi4Ak3i",
        "colab": {
          "base_uri": "https://localhost:8080/",
          "height": 307
        },
        "outputId": "8eaeb355-6a56-468e-8cba-9d484ef1235a"
      },
      "source": [
        "#previewing the top\n",
        "df.head()"
      ],
      "execution_count": null,
      "outputs": [
        {
          "output_type": "execute_result",
          "data": {
            "text/html": [
              "<div>\n",
              "<style scoped>\n",
              "    .dataframe tbody tr th:only-of-type {\n",
              "        vertical-align: middle;\n",
              "    }\n",
              "\n",
              "    .dataframe tbody tr th {\n",
              "        vertical-align: top;\n",
              "    }\n",
              "\n",
              "    .dataframe thead th {\n",
              "        text-align: right;\n",
              "    }\n",
              "</style>\n",
              "<table border=\"1\" class=\"dataframe\">\n",
              "  <thead>\n",
              "    <tr style=\"text-align: right;\">\n",
              "      <th></th>\n",
              "      <th>id</th>\n",
              "      <th>name</th>\n",
              "      <th>date</th>\n",
              "      <th>manner_of_death</th>\n",
              "      <th>armed</th>\n",
              "      <th>age</th>\n",
              "      <th>gender</th>\n",
              "      <th>race</th>\n",
              "      <th>city</th>\n",
              "      <th>state</th>\n",
              "      <th>signs_of_mental_illness</th>\n",
              "      <th>threat_level</th>\n",
              "      <th>flee</th>\n",
              "      <th>body_camera</th>\n",
              "      <th>arms_category</th>\n",
              "    </tr>\n",
              "  </thead>\n",
              "  <tbody>\n",
              "    <tr>\n",
              "      <th>0</th>\n",
              "      <td>3</td>\n",
              "      <td>Tim Elliot</td>\n",
              "      <td>1/2/2015</td>\n",
              "      <td>shot</td>\n",
              "      <td>gun</td>\n",
              "      <td>53.0</td>\n",
              "      <td>M</td>\n",
              "      <td>Asian</td>\n",
              "      <td>Shelton</td>\n",
              "      <td>WA</td>\n",
              "      <td>True</td>\n",
              "      <td>attack</td>\n",
              "      <td>Not fleeing</td>\n",
              "      <td>False</td>\n",
              "      <td>Guns</td>\n",
              "    </tr>\n",
              "    <tr>\n",
              "      <th>1</th>\n",
              "      <td>4</td>\n",
              "      <td>Lewis Lee Lembke</td>\n",
              "      <td>1/2/2015</td>\n",
              "      <td>shot</td>\n",
              "      <td>gun</td>\n",
              "      <td>47.0</td>\n",
              "      <td>M</td>\n",
              "      <td>White</td>\n",
              "      <td>Aloha</td>\n",
              "      <td>OR</td>\n",
              "      <td>False</td>\n",
              "      <td>attack</td>\n",
              "      <td>Not fleeing</td>\n",
              "      <td>False</td>\n",
              "      <td>Guns</td>\n",
              "    </tr>\n",
              "    <tr>\n",
              "      <th>2</th>\n",
              "      <td>5</td>\n",
              "      <td>John Paul Quintero</td>\n",
              "      <td>1/3/2015</td>\n",
              "      <td>shot and Tasered</td>\n",
              "      <td>unarmed</td>\n",
              "      <td>23.0</td>\n",
              "      <td>M</td>\n",
              "      <td>Hispanic</td>\n",
              "      <td>Wichita</td>\n",
              "      <td>KS</td>\n",
              "      <td>False</td>\n",
              "      <td>other</td>\n",
              "      <td>Not fleeing</td>\n",
              "      <td>False</td>\n",
              "      <td>Unarmed</td>\n",
              "    </tr>\n",
              "    <tr>\n",
              "      <th>3</th>\n",
              "      <td>8</td>\n",
              "      <td>Matthew Hoffman</td>\n",
              "      <td>1/4/2015</td>\n",
              "      <td>shot</td>\n",
              "      <td>toy weapon</td>\n",
              "      <td>32.0</td>\n",
              "      <td>M</td>\n",
              "      <td>White</td>\n",
              "      <td>San Francisco</td>\n",
              "      <td>CA</td>\n",
              "      <td>True</td>\n",
              "      <td>attack</td>\n",
              "      <td>Not fleeing</td>\n",
              "      <td>False</td>\n",
              "      <td>Other unusual objects</td>\n",
              "    </tr>\n",
              "    <tr>\n",
              "      <th>4</th>\n",
              "      <td>9</td>\n",
              "      <td>Michael Rodriguez</td>\n",
              "      <td>1/4/2015</td>\n",
              "      <td>shot</td>\n",
              "      <td>nail gun</td>\n",
              "      <td>39.0</td>\n",
              "      <td>M</td>\n",
              "      <td>Hispanic</td>\n",
              "      <td>Evans</td>\n",
              "      <td>CO</td>\n",
              "      <td>False</td>\n",
              "      <td>attack</td>\n",
              "      <td>Not fleeing</td>\n",
              "      <td>False</td>\n",
              "      <td>Piercing objects</td>\n",
              "    </tr>\n",
              "  </tbody>\n",
              "</table>\n",
              "</div>"
            ],
            "text/plain": [
              "   id                name  ... body_camera          arms_category\n",
              "0   3          Tim Elliot  ...       False                   Guns\n",
              "1   4    Lewis Lee Lembke  ...       False                   Guns\n",
              "2   5  John Paul Quintero  ...       False                Unarmed\n",
              "3   8     Matthew Hoffman  ...       False  Other unusual objects\n",
              "4   9   Michael Rodriguez  ...       False       Piercing objects\n",
              "\n",
              "[5 rows x 15 columns]"
            ]
          },
          "metadata": {
            "tags": []
          },
          "execution_count": 3
        }
      ]
    },
    {
      "cell_type": "code",
      "metadata": {
        "id": "nVgu1fpiAss9",
        "colab": {
          "base_uri": "https://localhost:8080/",
          "height": 307
        },
        "outputId": "43344da6-b003-40a2-ef17-3d6de240783a"
      },
      "source": [
        "#previewing the bottom\n",
        "df.tail()"
      ],
      "execution_count": null,
      "outputs": [
        {
          "output_type": "execute_result",
          "data": {
            "text/html": [
              "<div>\n",
              "<style scoped>\n",
              "    .dataframe tbody tr th:only-of-type {\n",
              "        vertical-align: middle;\n",
              "    }\n",
              "\n",
              "    .dataframe tbody tr th {\n",
              "        vertical-align: top;\n",
              "    }\n",
              "\n",
              "    .dataframe thead th {\n",
              "        text-align: right;\n",
              "    }\n",
              "</style>\n",
              "<table border=\"1\" class=\"dataframe\">\n",
              "  <thead>\n",
              "    <tr style=\"text-align: right;\">\n",
              "      <th></th>\n",
              "      <th>id</th>\n",
              "      <th>name</th>\n",
              "      <th>date</th>\n",
              "      <th>manner_of_death</th>\n",
              "      <th>armed</th>\n",
              "      <th>age</th>\n",
              "      <th>gender</th>\n",
              "      <th>race</th>\n",
              "      <th>city</th>\n",
              "      <th>state</th>\n",
              "      <th>signs_of_mental_illness</th>\n",
              "      <th>threat_level</th>\n",
              "      <th>flee</th>\n",
              "      <th>body_camera</th>\n",
              "      <th>arms_category</th>\n",
              "    </tr>\n",
              "  </thead>\n",
              "  <tbody>\n",
              "    <tr>\n",
              "      <th>4890</th>\n",
              "      <td>5916</td>\n",
              "      <td>Rayshard Brooks</td>\n",
              "      <td>6/12/2020</td>\n",
              "      <td>shot</td>\n",
              "      <td>Taser</td>\n",
              "      <td>27.0</td>\n",
              "      <td>M</td>\n",
              "      <td>Black</td>\n",
              "      <td>Atlanta</td>\n",
              "      <td>GA</td>\n",
              "      <td>False</td>\n",
              "      <td>attack</td>\n",
              "      <td>Foot</td>\n",
              "      <td>True</td>\n",
              "      <td>Electrical devices</td>\n",
              "    </tr>\n",
              "    <tr>\n",
              "      <th>4891</th>\n",
              "      <td>5925</td>\n",
              "      <td>Caine Van Pelt</td>\n",
              "      <td>6/12/2020</td>\n",
              "      <td>shot</td>\n",
              "      <td>gun</td>\n",
              "      <td>23.0</td>\n",
              "      <td>M</td>\n",
              "      <td>Black</td>\n",
              "      <td>Crown Point</td>\n",
              "      <td>IN</td>\n",
              "      <td>False</td>\n",
              "      <td>attack</td>\n",
              "      <td>Car</td>\n",
              "      <td>False</td>\n",
              "      <td>Guns</td>\n",
              "    </tr>\n",
              "    <tr>\n",
              "      <th>4892</th>\n",
              "      <td>5918</td>\n",
              "      <td>Hannah Fizer</td>\n",
              "      <td>6/13/2020</td>\n",
              "      <td>shot</td>\n",
              "      <td>unarmed</td>\n",
              "      <td>25.0</td>\n",
              "      <td>F</td>\n",
              "      <td>White</td>\n",
              "      <td>Sedalia</td>\n",
              "      <td>MO</td>\n",
              "      <td>False</td>\n",
              "      <td>other</td>\n",
              "      <td>Not fleeing</td>\n",
              "      <td>False</td>\n",
              "      <td>Unarmed</td>\n",
              "    </tr>\n",
              "    <tr>\n",
              "      <th>4893</th>\n",
              "      <td>5921</td>\n",
              "      <td>William Slyter</td>\n",
              "      <td>6/13/2020</td>\n",
              "      <td>shot</td>\n",
              "      <td>gun</td>\n",
              "      <td>22.0</td>\n",
              "      <td>M</td>\n",
              "      <td>White</td>\n",
              "      <td>Kansas City</td>\n",
              "      <td>MO</td>\n",
              "      <td>False</td>\n",
              "      <td>other</td>\n",
              "      <td>Other</td>\n",
              "      <td>False</td>\n",
              "      <td>Guns</td>\n",
              "    </tr>\n",
              "    <tr>\n",
              "      <th>4894</th>\n",
              "      <td>5924</td>\n",
              "      <td>Nicholas Hirsh</td>\n",
              "      <td>6/15/2020</td>\n",
              "      <td>shot</td>\n",
              "      <td>gun</td>\n",
              "      <td>31.0</td>\n",
              "      <td>M</td>\n",
              "      <td>White</td>\n",
              "      <td>Lawrence</td>\n",
              "      <td>KS</td>\n",
              "      <td>False</td>\n",
              "      <td>attack</td>\n",
              "      <td>Car</td>\n",
              "      <td>False</td>\n",
              "      <td>Guns</td>\n",
              "    </tr>\n",
              "  </tbody>\n",
              "</table>\n",
              "</div>"
            ],
            "text/plain": [
              "        id             name  ... body_camera       arms_category\n",
              "4890  5916  Rayshard Brooks  ...        True  Electrical devices\n",
              "4891  5925   Caine Van Pelt  ...       False                Guns\n",
              "4892  5918     Hannah Fizer  ...       False             Unarmed\n",
              "4893  5921   William Slyter  ...       False                Guns\n",
              "4894  5924   Nicholas Hirsh  ...       False                Guns\n",
              "\n",
              "[5 rows x 15 columns]"
            ]
          },
          "metadata": {
            "tags": []
          },
          "execution_count": 4
        }
      ]
    },
    {
      "cell_type": "code",
      "metadata": {
        "id": "0n2Z_MmLAvbq",
        "colab": {
          "base_uri": "https://localhost:8080/",
          "height": 324
        },
        "outputId": "d85b4016-a6d8-4ca5-ba4d-ae1b04ccf4f2"
      },
      "source": [
        "#previewing random sample of 5 records\n",
        "df.sample(5)"
      ],
      "execution_count": null,
      "outputs": [
        {
          "output_type": "execute_result",
          "data": {
            "text/html": [
              "<div>\n",
              "<style scoped>\n",
              "    .dataframe tbody tr th:only-of-type {\n",
              "        vertical-align: middle;\n",
              "    }\n",
              "\n",
              "    .dataframe tbody tr th {\n",
              "        vertical-align: top;\n",
              "    }\n",
              "\n",
              "    .dataframe thead th {\n",
              "        text-align: right;\n",
              "    }\n",
              "</style>\n",
              "<table border=\"1\" class=\"dataframe\">\n",
              "  <thead>\n",
              "    <tr style=\"text-align: right;\">\n",
              "      <th></th>\n",
              "      <th>id</th>\n",
              "      <th>name</th>\n",
              "      <th>date</th>\n",
              "      <th>manner_of_death</th>\n",
              "      <th>armed</th>\n",
              "      <th>age</th>\n",
              "      <th>gender</th>\n",
              "      <th>race</th>\n",
              "      <th>city</th>\n",
              "      <th>state</th>\n",
              "      <th>signs_of_mental_illness</th>\n",
              "      <th>threat_level</th>\n",
              "      <th>flee</th>\n",
              "      <th>body_camera</th>\n",
              "      <th>arms_category</th>\n",
              "    </tr>\n",
              "  </thead>\n",
              "  <tbody>\n",
              "    <tr>\n",
              "      <th>454</th>\n",
              "      <td>580</td>\n",
              "      <td>Joshua Crittenden</td>\n",
              "      <td>6/27/2015</td>\n",
              "      <td>shot</td>\n",
              "      <td>gun</td>\n",
              "      <td>35.0</td>\n",
              "      <td>M</td>\n",
              "      <td>White</td>\n",
              "      <td>Tahlequah</td>\n",
              "      <td>OK</td>\n",
              "      <td>False</td>\n",
              "      <td>attack</td>\n",
              "      <td>Not fleeing</td>\n",
              "      <td>True</td>\n",
              "      <td>Guns</td>\n",
              "    </tr>\n",
              "    <tr>\n",
              "      <th>4323</th>\n",
              "      <td>5216</td>\n",
              "      <td>Claudia Nadia Rodriguez</td>\n",
              "      <td>10/21/2019</td>\n",
              "      <td>shot</td>\n",
              "      <td>gun</td>\n",
              "      <td>37.0</td>\n",
              "      <td>F</td>\n",
              "      <td>Hispanic</td>\n",
              "      <td>Henderson</td>\n",
              "      <td>NV</td>\n",
              "      <td>False</td>\n",
              "      <td>attack</td>\n",
              "      <td>Not fleeing</td>\n",
              "      <td>True</td>\n",
              "      <td>Guns</td>\n",
              "    </tr>\n",
              "    <tr>\n",
              "      <th>3399</th>\n",
              "      <td>3985</td>\n",
              "      <td>Jeffrey Dennis</td>\n",
              "      <td>8/20/2018</td>\n",
              "      <td>shot</td>\n",
              "      <td>vehicle</td>\n",
              "      <td>36.0</td>\n",
              "      <td>M</td>\n",
              "      <td>Black</td>\n",
              "      <td>Philadelphia</td>\n",
              "      <td>PA</td>\n",
              "      <td>False</td>\n",
              "      <td>attack</td>\n",
              "      <td>Car</td>\n",
              "      <td>False</td>\n",
              "      <td>Vehicles</td>\n",
              "    </tr>\n",
              "    <tr>\n",
              "      <th>1230</th>\n",
              "      <td>1439</td>\n",
              "      <td>Marvin Cremeans</td>\n",
              "      <td>4/6/2016</td>\n",
              "      <td>shot</td>\n",
              "      <td>ax</td>\n",
              "      <td>60.0</td>\n",
              "      <td>M</td>\n",
              "      <td>White</td>\n",
              "      <td>Oak Hill</td>\n",
              "      <td>OH</td>\n",
              "      <td>False</td>\n",
              "      <td>other</td>\n",
              "      <td>Not fleeing</td>\n",
              "      <td>False</td>\n",
              "      <td>Blunt instruments</td>\n",
              "    </tr>\n",
              "    <tr>\n",
              "      <th>129</th>\n",
              "      <td>170</td>\n",
              "      <td>Bradford Leonard</td>\n",
              "      <td>2/22/2015</td>\n",
              "      <td>shot</td>\n",
              "      <td>gun</td>\n",
              "      <td>50.0</td>\n",
              "      <td>M</td>\n",
              "      <td>White</td>\n",
              "      <td>Palm Bay</td>\n",
              "      <td>FL</td>\n",
              "      <td>False</td>\n",
              "      <td>attack</td>\n",
              "      <td>Not fleeing</td>\n",
              "      <td>False</td>\n",
              "      <td>Guns</td>\n",
              "    </tr>\n",
              "  </tbody>\n",
              "</table>\n",
              "</div>"
            ],
            "text/plain": [
              "        id                     name  ... body_camera      arms_category\n",
              "454    580        Joshua Crittenden  ...        True               Guns\n",
              "4323  5216  Claudia Nadia Rodriguez  ...        True               Guns\n",
              "3399  3985           Jeffrey Dennis  ...       False           Vehicles\n",
              "1230  1439          Marvin Cremeans  ...       False  Blunt instruments\n",
              "129    170         Bradford Leonard  ...       False               Guns\n",
              "\n",
              "[5 rows x 15 columns]"
            ]
          },
          "metadata": {
            "tags": []
          },
          "execution_count": 5
        }
      ]
    },
    {
      "cell_type": "markdown",
      "metadata": {
        "id": "kjqX9tSDTF83"
      },
      "source": [
        "# **4. GETTING MORE INFORMATION ABOUT OUR DATASET**. "
      ]
    },
    {
      "cell_type": "code",
      "metadata": {
        "id": "r4-Qy_iFBFri",
        "colab": {
          "base_uri": "https://localhost:8080/"
        },
        "outputId": "5045ae71-7c92-48ac-ce34-00fea88e69e6"
      },
      "source": [
        "#getting the shape of our dataset\n",
        "df.shape"
      ],
      "execution_count": null,
      "outputs": [
        {
          "output_type": "execute_result",
          "data": {
            "text/plain": [
              "(4895, 15)"
            ]
          },
          "metadata": {
            "tags": []
          },
          "execution_count": 6
        }
      ]
    },
    {
      "cell_type": "code",
      "metadata": {
        "id": "cJG4EkL29p8v",
        "colab": {
          "base_uri": "https://localhost:8080/"
        },
        "outputId": "fd458fa8-3ed2-46a5-99be-7aba76bbea9e"
      },
      "source": [
        "#getting information about our dataset\n",
        "df.info()"
      ],
      "execution_count": null,
      "outputs": [
        {
          "output_type": "stream",
          "text": [
            "<class 'pandas.core.frame.DataFrame'>\n",
            "RangeIndex: 4895 entries, 0 to 4894\n",
            "Data columns (total 15 columns):\n",
            " #   Column                   Non-Null Count  Dtype  \n",
            "---  ------                   --------------  -----  \n",
            " 0   id                       4895 non-null   int64  \n",
            " 1   name                     4895 non-null   object \n",
            " 2   date                     4895 non-null   object \n",
            " 3   manner_of_death          4895 non-null   object \n",
            " 4   armed                    4895 non-null   object \n",
            " 5   age                      4895 non-null   float64\n",
            " 6   gender                   4895 non-null   object \n",
            " 7   race                     4895 non-null   object \n",
            " 8   city                     4895 non-null   object \n",
            " 9   state                    4895 non-null   object \n",
            " 10  signs_of_mental_illness  4895 non-null   bool   \n",
            " 11  threat_level             4895 non-null   object \n",
            " 12  flee                     4895 non-null   object \n",
            " 13  body_camera              4895 non-null   bool   \n",
            " 14  arms_category            4895 non-null   object \n",
            "dtypes: bool(2), float64(1), int64(1), object(11)\n",
            "memory usage: 506.8+ KB\n"
          ],
          "name": "stdout"
        }
      ]
    },
    {
      "cell_type": "code",
      "metadata": {
        "id": "ccaGxpyAZUdd",
        "colab": {
          "base_uri": "https://localhost:8080/",
          "height": 295
        },
        "outputId": "3ef9c444-0c50-4c4c-9afb-a215e06bffe3"
      },
      "source": [
        "#finding out parameters of our dataset\n",
        "df.describe()"
      ],
      "execution_count": null,
      "outputs": [
        {
          "output_type": "execute_result",
          "data": {
            "text/html": [
              "<div>\n",
              "<style scoped>\n",
              "    .dataframe tbody tr th:only-of-type {\n",
              "        vertical-align: middle;\n",
              "    }\n",
              "\n",
              "    .dataframe tbody tr th {\n",
              "        vertical-align: top;\n",
              "    }\n",
              "\n",
              "    .dataframe thead th {\n",
              "        text-align: right;\n",
              "    }\n",
              "</style>\n",
              "<table border=\"1\" class=\"dataframe\">\n",
              "  <thead>\n",
              "    <tr style=\"text-align: right;\">\n",
              "      <th></th>\n",
              "      <th>id</th>\n",
              "      <th>age</th>\n",
              "    </tr>\n",
              "  </thead>\n",
              "  <tbody>\n",
              "    <tr>\n",
              "      <th>count</th>\n",
              "      <td>4895.000000</td>\n",
              "      <td>4895.000000</td>\n",
              "    </tr>\n",
              "    <tr>\n",
              "      <th>mean</th>\n",
              "      <td>2902.148519</td>\n",
              "      <td>36.549750</td>\n",
              "    </tr>\n",
              "    <tr>\n",
              "      <th>std</th>\n",
              "      <td>1683.467910</td>\n",
              "      <td>12.694348</td>\n",
              "    </tr>\n",
              "    <tr>\n",
              "      <th>min</th>\n",
              "      <td>3.000000</td>\n",
              "      <td>6.000000</td>\n",
              "    </tr>\n",
              "    <tr>\n",
              "      <th>25%</th>\n",
              "      <td>1441.500000</td>\n",
              "      <td>27.000000</td>\n",
              "    </tr>\n",
              "    <tr>\n",
              "      <th>50%</th>\n",
              "      <td>2847.000000</td>\n",
              "      <td>35.000000</td>\n",
              "    </tr>\n",
              "    <tr>\n",
              "      <th>75%</th>\n",
              "      <td>4352.500000</td>\n",
              "      <td>45.000000</td>\n",
              "    </tr>\n",
              "    <tr>\n",
              "      <th>max</th>\n",
              "      <td>5925.000000</td>\n",
              "      <td>91.000000</td>\n",
              "    </tr>\n",
              "  </tbody>\n",
              "</table>\n",
              "</div>"
            ],
            "text/plain": [
              "                id          age\n",
              "count  4895.000000  4895.000000\n",
              "mean   2902.148519    36.549750\n",
              "std    1683.467910    12.694348\n",
              "min       3.000000     6.000000\n",
              "25%    1441.500000    27.000000\n",
              "50%    2847.000000    35.000000\n",
              "75%    4352.500000    45.000000\n",
              "max    5925.000000    91.000000"
            ]
          },
          "metadata": {
            "tags": []
          },
          "execution_count": 8
        }
      ]
    },
    {
      "cell_type": "code",
      "metadata": {
        "id": "lMyW2S5gZmI8",
        "colab": {
          "base_uri": "https://localhost:8080/"
        },
        "outputId": "6ea90f81-a146-4783-fa7f-d3239a3b2755"
      },
      "source": [
        "#find out unique values in each column\n",
        "df.nunique()"
      ],
      "execution_count": null,
      "outputs": [
        {
          "output_type": "execute_result",
          "data": {
            "text/plain": [
              "id                         4895\n",
              "name                       4851\n",
              "date                       1792\n",
              "manner_of_death               2\n",
              "armed                        89\n",
              "age                          76\n",
              "gender                        2\n",
              "race                          6\n",
              "city                       2288\n",
              "state                        51\n",
              "signs_of_mental_illness       2\n",
              "threat_level                  3\n",
              "flee                          4\n",
              "body_camera                   2\n",
              "arms_category                12\n",
              "dtype: int64"
            ]
          },
          "metadata": {
            "tags": []
          },
          "execution_count": 9
        }
      ]
    },
    {
      "cell_type": "markdown",
      "metadata": {
        "id": "aQEWI32mHoA0"
      },
      "source": [
        "# **5. CLEANING THE DATA**"
      ]
    },
    {
      "cell_type": "code",
      "metadata": {
        "id": "tuIRzQ8XlXx5"
      },
      "source": [
        "#redifining our columns\n",
        "\n",
        "df.columns = df.columns.str.strip().str.lower().str.replace(' ', '_').str.replace('(', '').str.replace(')', '')"
      ],
      "execution_count": null,
      "outputs": []
    },
    {
      "cell_type": "code",
      "metadata": {
        "id": "jHRoCDSnCFYr",
        "colab": {
          "base_uri": "https://localhost:8080/"
        },
        "outputId": "2ae187f8-fea9-4b9e-a365-d781244506a4"
      },
      "source": [
        "#Checking our renaming result\n",
        "df.columns"
      ],
      "execution_count": null,
      "outputs": [
        {
          "output_type": "execute_result",
          "data": {
            "text/plain": [
              "Index(['id', 'name', 'date', 'manner_of_death', 'armed', 'age', 'gender',\n",
              "       'race', 'city', 'state', 'signs_of_mental_illness', 'threat_level',\n",
              "       'flee', 'body_camera', 'arms_category'],\n",
              "      dtype='object')"
            ]
          },
          "metadata": {
            "tags": []
          },
          "execution_count": 11
        }
      ]
    },
    {
      "cell_type": "code",
      "metadata": {
        "id": "3UOs6mFAFl3F",
        "colab": {
          "base_uri": "https://localhost:8080/"
        },
        "outputId": "6ed279c4-a467-4c2c-8116-bd1a48f13922"
      },
      "source": [
        "#finding out how many duplicate rows are in our dataset\n",
        "\n",
        "len(df)-len(df.drop_duplicates())\n",
        "\n",
        "#there are no duplicates"
      ],
      "execution_count": null,
      "outputs": [
        {
          "output_type": "execute_result",
          "data": {
            "text/plain": [
              "0"
            ]
          },
          "metadata": {
            "tags": []
          },
          "execution_count": 12
        }
      ]
    },
    {
      "cell_type": "code",
      "metadata": {
        "id": "twflRHTnelID",
        "colab": {
          "base_uri": "https://localhost:8080/"
        },
        "outputId": "c71cf4b2-b459-4764-9cf6-25e11315756a"
      },
      "source": [
        "#check for null values if any\n",
        "df.isnull().sum()\n",
        "\n",
        "#there are no null values in our dataset"
      ],
      "execution_count": null,
      "outputs": [
        {
          "output_type": "execute_result",
          "data": {
            "text/plain": [
              "id                         0\n",
              "name                       0\n",
              "date                       0\n",
              "manner_of_death            0\n",
              "armed                      0\n",
              "age                        0\n",
              "gender                     0\n",
              "race                       0\n",
              "city                       0\n",
              "state                      0\n",
              "signs_of_mental_illness    0\n",
              "threat_level               0\n",
              "flee                       0\n",
              "body_camera                0\n",
              "arms_category              0\n",
              "dtype: int64"
            ]
          },
          "metadata": {
            "tags": []
          },
          "execution_count": 13
        }
      ]
    },
    {
      "cell_type": "code",
      "metadata": {
        "id": "qKgwUyV0fIU_",
        "colab": {
          "base_uri": "https://localhost:8080/",
          "height": 333
        },
        "outputId": "5cf30832-467e-4602-e0f7-ece9fcbfc334"
      },
      "source": [
        "# Checking for Outliers & Anomalies in the age column as it is our only numerical column\n",
        "sns.boxplot(df['age'])\n",
        "  \n",
        "plt.show()"
      ],
      "execution_count": null,
      "outputs": [
        {
          "output_type": "stream",
          "text": [
            "/usr/local/lib/python3.7/dist-packages/seaborn/_decorators.py:43: FutureWarning: Pass the following variable as a keyword arg: x. From version 0.12, the only valid positional argument will be `data`, and passing other arguments without an explicit keyword will result in an error or misinterpretation.\n",
            "  FutureWarning\n"
          ],
          "name": "stderr"
        },
        {
          "output_type": "display_data",
          "data": {
            "image/png": "[encoded data removed]",
            "text/plain": [
              "<Figure size 432x288 with 1 Axes>"
            ]
          },
          "metadata": {
            "tags": [],
            "needs_background": "light"
          }
        }
      ]
    },
    {
      "cell_type": "markdown",
      "metadata": {
        "id": "c5InP62fGyzG"
      },
      "source": [
        "We decided to keep our outliers because we saw that the data will be useful in our analysis when analysing about age."
      ]
    },
    {
      "cell_type": "markdown",
      "metadata": {
        "id": "67CHlpUkJx8h"
      },
      "source": [
        "**Anomilies**"
      ]
    },
    {
      "cell_type": "code",
      "metadata": {
        "id": "IbTryzPT4ULI",
        "colab": {
          "base_uri": "https://localhost:8080/"
        },
        "outputId": "5ae1b453-4ecf-4da6-b22a-75a853d44d40"
      },
      "source": [
        "#Selecting the categorical columns\n",
        "cat_cols = df.select_dtypes(include ='object').columns.to_list()\n",
        "cat_cols\n",
        "\n",
        "\n",
        "# Check for unique values in each column\n",
        "for col in cat_cols:\n",
        "  print(f'{col} column unique values: \\n')\n",
        "  print(df[col].unique(), end='\\n')\n",
        "  print('...........')\n",
        "  print('\\n')"
      ],
      "execution_count": null,
      "outputs": [
        {
          "output_type": "stream",
          "text": [
            "name column unique values: \n",
            "\n",
            "['Tim Elliot' 'Lewis Lee Lembke' 'John Paul Quintero' ... 'Hannah Fizer'\n",
            " 'William Slyter' 'Nicholas Hirsh']\n",
            "...........\n",
            "\n",
            "\n",
            "date column unique values: \n",
            "\n",
            "['1/2/2015' '1/3/2015' '1/4/2015' ... '6/12/2020' '6/13/2020' '6/15/2020']\n",
            "...........\n",
            "\n",
            "\n",
            "manner_of_death column unique values: \n",
            "\n",
            "['shot' 'shot and Tasered']\n",
            "...........\n",
            "\n",
            "\n",
            "armed column unique values: \n",
            "\n",
            "['gun' 'unarmed' 'toy weapon' 'nail gun' 'knife' 'unknown' 'shovel'\n",
            " 'hammer' 'hatchet' 'sword' 'machete' 'box cutter' 'metal object'\n",
            " 'screwdriver' 'lawn mower blade' 'flagpole' 'guns and explosives'\n",
            " 'cordless drill' 'metal pole' 'Taser' 'metal pipe' 'metal hand tool'\n",
            " 'blunt object' 'metal stick' 'sharp object' 'meat cleaver' 'carjack'\n",
            " 'chain' \"contractor's level\" 'stapler' 'crossbow' 'bean-bag gun'\n",
            " 'baseball bat and fireplace poker' 'straight edge razor' 'gun and knife'\n",
            " 'ax' 'brick' 'baseball bat' 'hand torch' 'chain saw' 'garden tool'\n",
            " 'scissors' 'pole' 'pick-axe' 'flashlight' 'vehicle' 'spear' 'chair'\n",
            " 'pitchfork' 'hatchet and gun' 'rock' 'piece of wood' 'bayonet' 'pipe'\n",
            " 'glass shard' 'motorcycle' 'pepper spray' 'metal rake' 'baton' 'crowbar'\n",
            " 'oar' 'machete and gun' 'air conditioner' 'pole and knife' 'beer bottle'\n",
            " 'baseball bat and bottle' 'fireworks' 'pen' 'chainsaw' 'gun and sword'\n",
            " 'gun and car' 'pellet gun' 'BB gun' 'incendiary device' 'samurai sword'\n",
            " 'bow and arrow' 'gun and vehicle' 'vehicle and gun' 'wrench'\n",
            " 'walking stick' 'barstool' 'grenade' 'BB gun and vehicle' 'wasp spray'\n",
            " 'air pistol' 'baseball bat and knife' 'vehicle and machete' 'ice pick'\n",
            " 'car, knife and mace']\n",
            "...........\n",
            "\n",
            "\n",
            "gender column unique values: \n",
            "\n",
            "['M' 'F']\n",
            "...........\n",
            "\n",
            "\n",
            "race column unique values: \n",
            "\n",
            "['Asian' 'White' 'Hispanic' 'Black' 'Other' 'Native']\n",
            "...........\n",
            "\n",
            "\n",
            "city column unique values: \n",
            "\n",
            "['Shelton' 'Aloha' 'Wichita' ... 'Industry' 'Paso Robles' 'Crown Point']\n",
            "...........\n",
            "\n",
            "\n",
            "state column unique values: \n",
            "\n",
            "['WA' 'OR' 'KS' 'CA' 'CO' 'OK' 'AZ' 'IA' 'PA' 'TX' 'OH' 'LA' 'MT' 'UT'\n",
            " 'AR' 'IL' 'NV' 'NM' 'MN' 'MO' 'VA' 'NJ' 'IN' 'KY' 'MA' 'NH' 'FL' 'ID'\n",
            " 'MD' 'NE' 'MI' 'GA' 'TN' 'NC' 'AK' 'NY' 'ME' 'AL' 'MS' 'WI' 'SC' 'DE'\n",
            " 'DC' 'WV' 'HI' 'WY' 'ND' 'CT' 'SD' 'VT' 'RI']\n",
            "...........\n",
            "\n",
            "\n",
            "threat_level column unique values: \n",
            "\n",
            "['attack' 'other' 'undetermined']\n",
            "...........\n",
            "\n",
            "\n",
            "flee column unique values: \n",
            "\n",
            "['Not fleeing' 'Car' 'Foot' 'Other']\n",
            "...........\n",
            "\n",
            "\n",
            "arms_category column unique values: \n",
            "\n",
            "['Guns' 'Unarmed' 'Other unusual objects' 'Piercing objects'\n",
            " 'Sharp objects' 'Unknown' 'Blunt instruments' 'Multiple'\n",
            " 'Electrical devices' 'Hand tools' 'Vehicles' 'Explosives']\n",
            "...........\n",
            "\n",
            "\n"
          ],
          "name": "stdout"
        }
      ]
    },
    {
      "cell_type": "code",
      "metadata": {
        "id": "8G6YgFuH9ERj"
      },
      "source": [
        "#convert date column to datetime\n",
        "\n",
        "df['date'] = pd.to_datetime(df['date'])"
      ],
      "execution_count": null,
      "outputs": []
    },
    {
      "cell_type": "code",
      "metadata": {
        "id": "0UgVpnDx9mdT",
        "colab": {
          "base_uri": "https://localhost:8080/"
        },
        "outputId": "d41b34d3-d68d-43b2-97b2-e33529972503"
      },
      "source": [
        "#Check if data was corrected\n",
        "df.info()"
      ],
      "execution_count": null,
      "outputs": [
        {
          "output_type": "stream",
          "text": [
            "<class 'pandas.core.frame.DataFrame'>\n",
            "RangeIndex: 4895 entries, 0 to 4894\n",
            "Data columns (total 15 columns):\n",
            " #   Column                   Non-Null Count  Dtype         \n",
            "---  ------                   --------------  -----         \n",
            " 0   id                       4895 non-null   int64         \n",
            " 1   name                     4895 non-null   object        \n",
            " 2   date                     4895 non-null   datetime64[ns]\n",
            " 3   manner_of_death          4895 non-null   object        \n",
            " 4   armed                    4895 non-null   object        \n",
            " 5   age                      4895 non-null   float64       \n",
            " 6   gender                   4895 non-null   object        \n",
            " 7   race                     4895 non-null   object        \n",
            " 8   city                     4895 non-null   object        \n",
            " 9   state                    4895 non-null   object        \n",
            " 10  signs_of_mental_illness  4895 non-null   bool          \n",
            " 11  threat_level             4895 non-null   object        \n",
            " 12  flee                     4895 non-null   object        \n",
            " 13  body_camera              4895 non-null   bool          \n",
            " 14  arms_category            4895 non-null   object        \n",
            "dtypes: bool(2), datetime64[ns](1), float64(1), int64(1), object(10)\n",
            "memory usage: 506.8+ KB\n"
          ],
          "name": "stdout"
        }
      ]
    },
    {
      "cell_type": "markdown",
      "metadata": {
        "id": "ocBjOS7_giq-"
      },
      "source": [
        "from the output our data seems clean, no null values and no duplicates, no outliers and we have standard names for all columns"
      ]
    },
    {
      "cell_type": "markdown",
      "metadata": {
        "id": "APXXOnfpk1LQ"
      },
      "source": [
        "# **6. EXPORT CLEAN DATA**"
      ]
    },
    {
      "cell_type": "code",
      "metadata": {
        "id": "w6HxA_3QmYP8"
      },
      "source": [
        "#saving the cleaned dataset\n",
        "df = df.to_csv('us_police_shooting.csv')\n",
        "\n",
        "#df = df_sample.to_excel('name.xlsx')\n"
      ],
      "execution_count": null,
      "outputs": []
    },
    {
      "cell_type": "code",
      "metadata": {
        "id": "dFmg2eV_-y49"
      },
      "source": [
        "#loading the saved clean dataset\n",
        "df = pd.read_csv('/content/us_police_shooting.csv')\n",
        "# df = df.set_index('id')\n",
        "df.drop(['Unnamed: 0'],axis=1,inplace = True)\n"
      ],
      "execution_count": null,
      "outputs": []
    },
    {
      "cell_type": "code",
      "metadata": {
        "id": "FAKE7tmaEd8D"
      },
      "source": [
        ""
      ],
      "execution_count": null,
      "outputs": []
    },
    {
      "cell_type": "markdown",
      "metadata": {
        "id": "rF2ABPsHUtbZ"
      },
      "source": [
        "# **7. Exploratory Analysis**"
      ]
    },
    {
      "cell_type": "markdown",
      "metadata": {
        "id": "D8B80V2uISVI"
      },
      "source": [
        "## a) Univariate Analysis"
      ]
    },
    {
      "cell_type": "markdown",
      "metadata": {
        "id": "W5ujhTq5ZmUa"
      },
      "source": [
        "### ***Measures of Central Tendency***"
      ]
    },
    {
      "cell_type": "code",
      "metadata": {
        "id": "vXtZLkr_LFO5",
        "colab": {
          "base_uri": "https://localhost:8080/",
          "height": 425
        },
        "outputId": "b113b85f-029f-4404-ae15-7fab693d8cbd"
      },
      "source": [
        "#getting summary\n",
        "df.describe(include='all')"
      ],
      "execution_count": null,
      "outputs": [
        {
          "output_type": "execute_result",
          "data": {
            "text/html": [
              "<div>\n",
              "<style scoped>\n",
              "    .dataframe tbody tr th:only-of-type {\n",
              "        vertical-align: middle;\n",
              "    }\n",
              "\n",
              "    .dataframe tbody tr th {\n",
              "        vertical-align: top;\n",
              "    }\n",
              "\n",
              "    .dataframe thead th {\n",
              "        text-align: right;\n",
              "    }\n",
              "</style>\n",
              "<table border=\"1\" class=\"dataframe\">\n",
              "  <thead>\n",
              "    <tr style=\"text-align: right;\">\n",
              "      <th></th>\n",
              "      <th>id</th>\n",
              "      <th>name</th>\n",
              "      <th>date</th>\n",
              "      <th>manner_of_death</th>\n",
              "      <th>armed</th>\n",
              "      <th>age</th>\n",
              "      <th>gender</th>\n",
              "      <th>race</th>\n",
              "      <th>city</th>\n",
              "      <th>state</th>\n",
              "      <th>signs_of_mental_illness</th>\n",
              "      <th>threat_level</th>\n",
              "      <th>flee</th>\n",
              "      <th>body_camera</th>\n",
              "      <th>arms_category</th>\n",
              "    </tr>\n",
              "  </thead>\n",
              "  <tbody>\n",
              "    <tr>\n",
              "      <th>count</th>\n",
              "      <td>4895.000000</td>\n",
              "      <td>4895</td>\n",
              "      <td>4895</td>\n",
              "      <td>4895</td>\n",
              "      <td>4895</td>\n",
              "      <td>4895.000000</td>\n",
              "      <td>4895</td>\n",
              "      <td>4895</td>\n",
              "      <td>4895</td>\n",
              "      <td>4895</td>\n",
              "      <td>4895</td>\n",
              "      <td>4895</td>\n",
              "      <td>4895</td>\n",
              "      <td>4895</td>\n",
              "      <td>4895</td>\n",
              "    </tr>\n",
              "    <tr>\n",
              "      <th>unique</th>\n",
              "      <td>NaN</td>\n",
              "      <td>4851</td>\n",
              "      <td>1792</td>\n",
              "      <td>2</td>\n",
              "      <td>89</td>\n",
              "      <td>NaN</td>\n",
              "      <td>2</td>\n",
              "      <td>6</td>\n",
              "      <td>2288</td>\n",
              "      <td>51</td>\n",
              "      <td>2</td>\n",
              "      <td>3</td>\n",
              "      <td>4</td>\n",
              "      <td>2</td>\n",
              "      <td>12</td>\n",
              "    </tr>\n",
              "    <tr>\n",
              "      <th>top</th>\n",
              "      <td>NaN</td>\n",
              "      <td>TK TK</td>\n",
              "      <td>2018-01-06</td>\n",
              "      <td>shot</td>\n",
              "      <td>gun</td>\n",
              "      <td>NaN</td>\n",
              "      <td>M</td>\n",
              "      <td>White</td>\n",
              "      <td>Los Angeles</td>\n",
              "      <td>CA</td>\n",
              "      <td>False</td>\n",
              "      <td>attack</td>\n",
              "      <td>Not fleeing</td>\n",
              "      <td>False</td>\n",
              "      <td>Guns</td>\n",
              "    </tr>\n",
              "    <tr>\n",
              "      <th>freq</th>\n",
              "      <td>NaN</td>\n",
              "      <td>29</td>\n",
              "      <td>9</td>\n",
              "      <td>4647</td>\n",
              "      <td>2755</td>\n",
              "      <td>NaN</td>\n",
              "      <td>4673</td>\n",
              "      <td>2476</td>\n",
              "      <td>78</td>\n",
              "      <td>701</td>\n",
              "      <td>3792</td>\n",
              "      <td>3160</td>\n",
              "      <td>3073</td>\n",
              "      <td>4317</td>\n",
              "      <td>2764</td>\n",
              "    </tr>\n",
              "    <tr>\n",
              "      <th>mean</th>\n",
              "      <td>2902.148519</td>\n",
              "      <td>NaN</td>\n",
              "      <td>NaN</td>\n",
              "      <td>NaN</td>\n",
              "      <td>NaN</td>\n",
              "      <td>36.549750</td>\n",
              "      <td>NaN</td>\n",
              "      <td>NaN</td>\n",
              "      <td>NaN</td>\n",
              "      <td>NaN</td>\n",
              "      <td>NaN</td>\n",
              "      <td>NaN</td>\n",
              "      <td>NaN</td>\n",
              "      <td>NaN</td>\n",
              "      <td>NaN</td>\n",
              "    </tr>\n",
              "    <tr>\n",
              "      <th>std</th>\n",
              "      <td>1683.467910</td>\n",
              "      <td>NaN</td>\n",
              "      <td>NaN</td>\n",
              "      <td>NaN</td>\n",
              "      <td>NaN</td>\n",
              "      <td>12.694348</td>\n",
              "      <td>NaN</td>\n",
              "      <td>NaN</td>\n",
              "      <td>NaN</td>\n",
              "      <td>NaN</td>\n",
              "      <td>NaN</td>\n",
              "      <td>NaN</td>\n",
              "      <td>NaN</td>\n",
              "      <td>NaN</td>\n",
              "      <td>NaN</td>\n",
              "    </tr>\n",
              "    <tr>\n",
              "      <th>min</th>\n",
              "      <td>3.000000</td>\n",
              "      <td>NaN</td>\n",
              "      <td>NaN</td>\n",
              "      <td>NaN</td>\n",
              "      <td>NaN</td>\n",
              "      <td>6.000000</td>\n",
              "      <td>NaN</td>\n",
              "      <td>NaN</td>\n",
              "      <td>NaN</td>\n",
              "      <td>NaN</td>\n",
              "      <td>NaN</td>\n",
              "      <td>NaN</td>\n",
              "      <td>NaN</td>\n",
              "      <td>NaN</td>\n",
              "      <td>NaN</td>\n",
              "    </tr>\n",
              "    <tr>\n",
              "      <th>25%</th>\n",
              "      <td>1441.500000</td>\n",
              "      <td>NaN</td>\n",
              "      <td>NaN</td>\n",
              "      <td>NaN</td>\n",
              "      <td>NaN</td>\n",
              "      <td>27.000000</td>\n",
              "      <td>NaN</td>\n",
              "      <td>NaN</td>\n",
              "      <td>NaN</td>\n",
              "      <td>NaN</td>\n",
              "      <td>NaN</td>\n",
              "      <td>NaN</td>\n",
              "      <td>NaN</td>\n",
              "      <td>NaN</td>\n",
              "      <td>NaN</td>\n",
              "    </tr>\n",
              "    <tr>\n",
              "      <th>50%</th>\n",
              "      <td>2847.000000</td>\n",
              "      <td>NaN</td>\n",
              "      <td>NaN</td>\n",
              "      <td>NaN</td>\n",
              "      <td>NaN</td>\n",
              "      <td>35.000000</td>\n",
              "      <td>NaN</td>\n",
              "      <td>NaN</td>\n",
              "      <td>NaN</td>\n",
              "      <td>NaN</td>\n",
              "      <td>NaN</td>\n",
              "      <td>NaN</td>\n",
              "      <td>NaN</td>\n",
              "      <td>NaN</td>\n",
              "      <td>NaN</td>\n",
              "    </tr>\n",
              "    <tr>\n",
              "      <th>75%</th>\n",
              "      <td>4352.500000</td>\n",
              "      <td>NaN</td>\n",
              "      <td>NaN</td>\n",
              "      <td>NaN</td>\n",
              "      <td>NaN</td>\n",
              "      <td>45.000000</td>\n",
              "      <td>NaN</td>\n",
              "      <td>NaN</td>\n",
              "      <td>NaN</td>\n",
              "      <td>NaN</td>\n",
              "      <td>NaN</td>\n",
              "      <td>NaN</td>\n",
              "      <td>NaN</td>\n",
              "      <td>NaN</td>\n",
              "      <td>NaN</td>\n",
              "    </tr>\n",
              "    <tr>\n",
              "      <th>max</th>\n",
              "      <td>5925.000000</td>\n",
              "      <td>NaN</td>\n",
              "      <td>NaN</td>\n",
              "      <td>NaN</td>\n",
              "      <td>NaN</td>\n",
              "      <td>91.000000</td>\n",
              "      <td>NaN</td>\n",
              "      <td>NaN</td>\n",
              "      <td>NaN</td>\n",
              "      <td>NaN</td>\n",
              "      <td>NaN</td>\n",
              "      <td>NaN</td>\n",
              "      <td>NaN</td>\n",
              "      <td>NaN</td>\n",
              "      <td>NaN</td>\n",
              "    </tr>\n",
              "  </tbody>\n",
              "</table>\n",
              "</div>"
            ],
            "text/plain": [
              "                 id   name        date  ...         flee body_camera  arms_category\n",
              "count   4895.000000   4895        4895  ...         4895        4895           4895\n",
              "unique          NaN   4851        1792  ...            4           2             12\n",
              "top             NaN  TK TK  2018-01-06  ...  Not fleeing       False           Guns\n",
              "freq            NaN     29           9  ...         3073        4317           2764\n",
              "mean    2902.148519    NaN         NaN  ...          NaN         NaN            NaN\n",
              "std     1683.467910    NaN         NaN  ...          NaN         NaN            NaN\n",
              "min        3.000000    NaN         NaN  ...          NaN         NaN            NaN\n",
              "25%     1441.500000    NaN         NaN  ...          NaN         NaN            NaN\n",
              "50%     2847.000000    NaN         NaN  ...          NaN         NaN            NaN\n",
              "75%     4352.500000    NaN         NaN  ...          NaN         NaN            NaN\n",
              "max     5925.000000    NaN         NaN  ...          NaN         NaN            NaN\n",
              "\n",
              "[11 rows x 15 columns]"
            ]
          },
          "metadata": {
            "tags": []
          },
          "execution_count": 20
        }
      ]
    },
    {
      "cell_type": "code",
      "metadata": {
        "id": "5nnRToniXGDK",
        "colab": {
          "base_uri": "https://localhost:8080/",
          "height": 117
        },
        "outputId": "bc16fdfd-4176-41b7-e2b9-e7c3926cf570"
      },
      "source": [
        "# Mode\n",
        "# Calculating mode across different columns\n",
        "\n",
        "df[['id', 'name', 'date', 'manner_of_death', 'armed', 'age', 'gender',\n",
        "       'race', 'city', 'state', 'signs_of_mental_illness', 'threat_level',\n",
        "       'flee', 'body_camera', 'arms_category']].mode().head(1)"
      ],
      "execution_count": null,
      "outputs": [
        {
          "output_type": "execute_result",
          "data": {
            "text/html": [
              "<div>\n",
              "<style scoped>\n",
              "    .dataframe tbody tr th:only-of-type {\n",
              "        vertical-align: middle;\n",
              "    }\n",
              "\n",
              "    .dataframe tbody tr th {\n",
              "        vertical-align: top;\n",
              "    }\n",
              "\n",
              "    .dataframe thead th {\n",
              "        text-align: right;\n",
              "    }\n",
              "</style>\n",
              "<table border=\"1\" class=\"dataframe\">\n",
              "  <thead>\n",
              "    <tr style=\"text-align: right;\">\n",
              "      <th></th>\n",
              "      <th>id</th>\n",
              "      <th>name</th>\n",
              "      <th>date</th>\n",
              "      <th>manner_of_death</th>\n",
              "      <th>armed</th>\n",
              "      <th>age</th>\n",
              "      <th>gender</th>\n",
              "      <th>race</th>\n",
              "      <th>city</th>\n",
              "      <th>state</th>\n",
              "      <th>signs_of_mental_illness</th>\n",
              "      <th>threat_level</th>\n",
              "      <th>flee</th>\n",
              "      <th>body_camera</th>\n",
              "      <th>arms_category</th>\n",
              "    </tr>\n",
              "  </thead>\n",
              "  <tbody>\n",
              "    <tr>\n",
              "      <th>0</th>\n",
              "      <td>3</td>\n",
              "      <td>TK TK</td>\n",
              "      <td>2018-01-06</td>\n",
              "      <td>shot</td>\n",
              "      <td>gun</td>\n",
              "      <td>25.0</td>\n",
              "      <td>M</td>\n",
              "      <td>White</td>\n",
              "      <td>Los Angeles</td>\n",
              "      <td>CA</td>\n",
              "      <td>False</td>\n",
              "      <td>attack</td>\n",
              "      <td>Not fleeing</td>\n",
              "      <td>False</td>\n",
              "      <td>Guns</td>\n",
              "    </tr>\n",
              "  </tbody>\n",
              "</table>\n",
              "</div>"
            ],
            "text/plain": [
              "   id   name        date  ...         flee body_camera  arms_category\n",
              "0   3  TK TK  2018-01-06  ...  Not fleeing       False           Guns\n",
              "\n",
              "[1 rows x 15 columns]"
            ]
          },
          "metadata": {
            "tags": []
          },
          "execution_count": 21
        }
      ]
    },
    {
      "cell_type": "code",
      "metadata": {
        "id": "o-mbgUa40DBp",
        "colab": {
          "base_uri": "https://localhost:8080/",
          "height": 511
        },
        "outputId": "11106e3c-b737-4b82-e61d-46c9b5ea5bdc"
      },
      "source": [
        "modedf =pd.DataFrame()\n",
        "modedf\n",
        "\n",
        "data = {'Criteria': ['id', 'name', 'date', 'manner_of_death', 'armed', 'age', 'gender',\n",
        "       'race', 'city', 'state', 'signs_of_mental_illness', 'threat_level',\n",
        "       'flee', 'body_camera', 'arms_category'], \n",
        "       'The most appearing record': ['3','TK','2018-01-06','shot','gun','25','Male','White','Los Angelos','CA','False','attack','Not Fleeing','False','Guns']} \n",
        "modedf =pd.DataFrame(data)\n",
        "modedf"
      ],
      "execution_count": null,
      "outputs": [
        {
          "output_type": "execute_result",
          "data": {
            "text/html": [
              "<div>\n",
              "<style scoped>\n",
              "    .dataframe tbody tr th:only-of-type {\n",
              "        vertical-align: middle;\n",
              "    }\n",
              "\n",
              "    .dataframe tbody tr th {\n",
              "        vertical-align: top;\n",
              "    }\n",
              "\n",
              "    .dataframe thead th {\n",
              "        text-align: right;\n",
              "    }\n",
              "</style>\n",
              "<table border=\"1\" class=\"dataframe\">\n",
              "  <thead>\n",
              "    <tr style=\"text-align: right;\">\n",
              "      <th></th>\n",
              "      <th>Criteria</th>\n",
              "      <th>The most appearing record</th>\n",
              "    </tr>\n",
              "  </thead>\n",
              "  <tbody>\n",
              "    <tr>\n",
              "      <th>0</th>\n",
              "      <td>id</td>\n",
              "      <td>3</td>\n",
              "    </tr>\n",
              "    <tr>\n",
              "      <th>1</th>\n",
              "      <td>name</td>\n",
              "      <td>TK</td>\n",
              "    </tr>\n",
              "    <tr>\n",
              "      <th>2</th>\n",
              "      <td>date</td>\n",
              "      <td>2018-01-06</td>\n",
              "    </tr>\n",
              "    <tr>\n",
              "      <th>3</th>\n",
              "      <td>manner_of_death</td>\n",
              "      <td>shot</td>\n",
              "    </tr>\n",
              "    <tr>\n",
              "      <th>4</th>\n",
              "      <td>armed</td>\n",
              "      <td>gun</td>\n",
              "    </tr>\n",
              "    <tr>\n",
              "      <th>5</th>\n",
              "      <td>age</td>\n",
              "      <td>25</td>\n",
              "    </tr>\n",
              "    <tr>\n",
              "      <th>6</th>\n",
              "      <td>gender</td>\n",
              "      <td>Male</td>\n",
              "    </tr>\n",
              "    <tr>\n",
              "      <th>7</th>\n",
              "      <td>race</td>\n",
              "      <td>White</td>\n",
              "    </tr>\n",
              "    <tr>\n",
              "      <th>8</th>\n",
              "      <td>city</td>\n",
              "      <td>Los Angelos</td>\n",
              "    </tr>\n",
              "    <tr>\n",
              "      <th>9</th>\n",
              "      <td>state</td>\n",
              "      <td>CA</td>\n",
              "    </tr>\n",
              "    <tr>\n",
              "      <th>10</th>\n",
              "      <td>signs_of_mental_illness</td>\n",
              "      <td>False</td>\n",
              "    </tr>\n",
              "    <tr>\n",
              "      <th>11</th>\n",
              "      <td>threat_level</td>\n",
              "      <td>attack</td>\n",
              "    </tr>\n",
              "    <tr>\n",
              "      <th>12</th>\n",
              "      <td>flee</td>\n",
              "      <td>Not Fleeing</td>\n",
              "    </tr>\n",
              "    <tr>\n",
              "      <th>13</th>\n",
              "      <td>body_camera</td>\n",
              "      <td>False</td>\n",
              "    </tr>\n",
              "    <tr>\n",
              "      <th>14</th>\n",
              "      <td>arms_category</td>\n",
              "      <td>Guns</td>\n",
              "    </tr>\n",
              "  </tbody>\n",
              "</table>\n",
              "</div>"
            ],
            "text/plain": [
              "                   Criteria The most appearing record\n",
              "0                        id                         3\n",
              "1                      name                        TK\n",
              "2                      date                2018-01-06\n",
              "3           manner_of_death                      shot\n",
              "4                     armed                       gun\n",
              "5                       age                        25\n",
              "6                    gender                      Male\n",
              "7                      race                     White\n",
              "8                      city               Los Angelos\n",
              "9                     state                        CA\n",
              "10  signs_of_mental_illness                     False\n",
              "11             threat_level                    attack\n",
              "12                     flee               Not Fleeing\n",
              "13              body_camera                     False\n",
              "14            arms_category                      Guns"
            ]
          },
          "metadata": {
            "tags": []
          },
          "execution_count": 22
        }
      ]
    },
    {
      "cell_type": "code",
      "metadata": {
        "id": "yVIQtLJmuhtV",
        "colab": {
          "base_uri": "https://localhost:8080/"
        },
        "outputId": "3a47efe5-6ad0-4a1d-bc7d-6b2f57b531a9"
      },
      "source": [
        "# Mean\n",
        "# Calculating the mean for our numerical columns\n",
        "df[['age']].mean(axis=0)"
      ],
      "execution_count": null,
      "outputs": [
        {
          "output_type": "execute_result",
          "data": {
            "text/plain": [
              "age    36.54975\n",
              "dtype: float64"
            ]
          },
          "metadata": {
            "tags": []
          },
          "execution_count": 23
        }
      ]
    },
    {
      "cell_type": "markdown",
      "metadata": {
        "id": "vfxxOlpZvYiP"
      },
      "source": [
        "> The average age of people who were shot is   37"
      ]
    },
    {
      "cell_type": "code",
      "metadata": {
        "id": "hWZCYQsquovL",
        "colab": {
          "base_uri": "https://localhost:8080/"
        },
        "outputId": "d46095bb-6585-4e5e-c60b-d92b4189da9b"
      },
      "source": [
        "# Median\n",
        "# Calculating the median for our numerical columns\n",
        "\n",
        "df[['age']].median(axis=0)"
      ],
      "execution_count": null,
      "outputs": [
        {
          "output_type": "execute_result",
          "data": {
            "text/plain": [
              "age    35.0\n",
              "dtype: float64"
            ]
          },
          "metadata": {
            "tags": []
          },
          "execution_count": 24
        }
      ]
    },
    {
      "cell_type": "markdown",
      "metadata": {
        "id": "lm_KIYIKvxE7"
      },
      "source": [
        "> The median age of people who were shot is 35"
      ]
    },
    {
      "cell_type": "markdown",
      "metadata": {
        "id": "9O-9MITedliL"
      },
      "source": [
        "### ***Measures of Dispersion***"
      ]
    },
    {
      "cell_type": "code",
      "metadata": {
        "id": "skPW_H46wS7c",
        "colab": {
          "base_uri": "https://localhost:8080/"
        },
        "outputId": "c83e324c-ead7-4303-c7d3-cd14d4a9fb63"
      },
      "source": [
        "# Standard Deviation & Variance\n",
        "# We will now calculate the standard deviation and variance to check the spread of our data from the mean\n",
        "range1 = df['age'].max() - df['age'].min()\n",
        "\n",
        "std = df['age'].std()\n",
        "var = df['age'].var()\n",
        "print('Range: \"Age\" ', range1) \n",
        "print('Std deviation:', std)\n",
        "print('Variance:', var)"
      ],
      "execution_count": null,
      "outputs": [
        {
          "output_type": "stream",
          "text": [
            "Range: \"Age\"  85.0\n",
            "Std deviation: 12.694348090758691\n",
            "Variance: 161.1464734493488\n"
          ],
          "name": "stdout"
        }
      ]
    },
    {
      "cell_type": "markdown",
      "metadata": {
        "id": "b1YSJtTvcQrr"
      },
      "source": [
        "column has a high standard deviation and variance, showing that they're both spread over a wide range as evidenced by the ranges"
      ]
    },
    {
      "cell_type": "code",
      "metadata": {
        "id": "RAaNLhEDuseu",
        "colab": {
          "base_uri": "https://localhost:8080/"
        },
        "outputId": "b10d246e-06a1-4dc0-9545-6d1aae87d943"
      },
      "source": [
        "# Skewness\n",
        "# We will now calculate the skewness to check the assymetry of the distribution\n",
        "df['age'].skew()"
      ],
      "execution_count": null,
      "outputs": [
        {
          "output_type": "execute_result",
          "data": {
            "text/plain": [
              "0.7149514194510787"
            ]
          },
          "metadata": {
            "tags": []
          },
          "execution_count": 26
        }
      ]
    },
    {
      "cell_type": "markdown",
      "metadata": {
        "id": "c5f3NMXawARn"
      },
      "source": [
        "> Our age column is positively skewed, indicating that the tail is bigger on the left side"
      ]
    },
    {
      "cell_type": "code",
      "metadata": {
        "id": "hbJjD44PutyA",
        "colab": {
          "base_uri": "https://localhost:8080/"
        },
        "outputId": "8a909891-4644-47d3-e29e-5f280b806b50"
      },
      "source": [
        "# Kurtosis\n",
        "# We will now calculate the kurtosis to check the tail of our distribution\n",
        "df['age'].kurt()"
      ],
      "execution_count": null,
      "outputs": [
        {
          "output_type": "execute_result",
          "data": {
            "text/plain": [
              "0.1658018205712728"
            ]
          },
          "metadata": {
            "tags": []
          },
          "execution_count": 27
        }
      ]
    },
    {
      "cell_type": "markdown",
      "metadata": {
        "id": "b--AXvx57ijj"
      },
      "source": [
        "Low kurtosis exhibit tail data that are generally less extreme than the tails of the normal distribution. This indicates that we have a platykurtic distribution\n"
      ]
    },
    {
      "cell_type": "code",
      "metadata": {
        "id": "LVvV5IMLL6Hs",
        "colab": {
          "base_uri": "https://localhost:8080/"
        },
        "outputId": "a335817d-93d7-4206-ec95-f738091a187e"
      },
      "source": [
        "print('Skewness:',df['age'].skew())\n",
        "print(\"Kurtosis:\",df['age'].kurt())\n",
        "plt.hist(df['age'], bins=5)\n",
        "plt.title('Histogram of Age distibution')\n",
        "plt.xlabel('Age')\n",
        "plt.ylabel('Frequency')\n",
        "plt.show()"
      ],
      "execution_count": null,
      "outputs": [
        {
          "output_type": "stream",
          "text": [
            "Skewness: 0.7149514194510787\n",
            "Kurtosis: 0.1658018205712728\n"
          ],
          "name": "stdout"
        },
        {
          "output_type": "display_data",
          "data": {
            "image/png": "[encoded data removed]",
            "text/plain": [
              "<Figure size 432x288 with 1 Axes>"
            ]
          },
          "metadata": {
            "tags": [],
            "needs_background": "light"
          }
        }
      ]
    },
    {
      "cell_type": "code",
      "metadata": {
        "id": "VXK6xuj1gW1R"
      },
      "source": [
        ""
      ],
      "execution_count": null,
      "outputs": []
    },
    {
      "cell_type": "code",
      "metadata": {
        "id": "6nI4rElwYuPD"
      },
      "source": [
        "# Creating a subset with first strata sample data\n",
        "\n",
        "#one_sample =  df_sample.loc[df2_sample['column name']==row value] \n",
        "\n",
        "#Creating a subset with second strata sample data\n",
        "#two_sample =  df_sample.loc[df2_sample['column name']==row value] \n",
        "\n",
        "#one_sample.head()\n",
        "#two_sample.head()"
      ],
      "execution_count": null,
      "outputs": []
    },
    {
      "cell_type": "code",
      "metadata": {
        "id": "S4ORfXDQZBS0"
      },
      "source": [
        "#df_sample.columns"
      ],
      "execution_count": null,
      "outputs": []
    },
    {
      "cell_type": "code",
      "metadata": {
        "id": "dYjyO6lWLD-m"
      },
      "source": [
        "# Creating a stratified random sample by grouping the dataset by variable a/ variable b\n",
        "# Then extracting sample units from each group\n",
        "# The sample size is calculated with 0.05 as the margin of error, and 95% as the confidence level \n",
        "\n",
        "#df_sample = df.groupby('column name', group_keys=False).apply(lambda x : x.sample(replace='False', frac=((4895/(1+4895*(0.05**2)))/10024)))\n",
        "\n",
        "# Print the number of sample units from each strata\n",
        "#print(df_sample['column name'].value_counts())\n",
        "\n",
        "# Display some of the sample data \n",
        "#df_sample"
      ],
      "execution_count": null,
      "outputs": []
    },
    {
      "cell_type": "markdown",
      "metadata": {
        "id": "IKVUsF8P-CKq"
      },
      "source": [
        "##Univariate Plots"
      ]
    },
    {
      "cell_type": "code",
      "metadata": {
        "id": "aw0-sbtQObgg",
        "colab": {
          "base_uri": "https://localhost:8080/"
        },
        "outputId": "5ef1c610-279c-4c96-9838-13be056c10ea"
      },
      "source": [
        "df.columns"
      ],
      "execution_count": null,
      "outputs": [
        {
          "output_type": "execute_result",
          "data": {
            "text/plain": [
              "Index(['id', 'name', 'date', 'manner_of_death', 'armed', 'age', 'gender',\n",
              "       'race', 'city', 'state', 'signs_of_mental_illness', 'threat_level',\n",
              "       'flee', 'body_camera', 'arms_category'],\n",
              "      dtype='object')"
            ]
          },
          "metadata": {
            "tags": []
          },
          "execution_count": 32
        }
      ]
    },
    {
      "cell_type": "code",
      "metadata": {
        "id": "irnzHJN9NRgV"
      },
      "source": [
        "# col=['armed',\n",
        "#        'gender', 'race', 'city', 'signs_of_mental_illness',\n",
        "#        'threat_level', 'flee', 'body_camera', 'arms_category']\n",
        "# fig, ax = plt.subplots(len(col), figsize=(5,10))\n",
        "# for i, col_val in enumerate(col()):\n",
        "#     sns.distplot(df[col_val], ax=ax[i], kde=True, color='blue')\n",
        "#     ax[i].set_title('Box plot - {}'.format(col_val))\n",
        "#     ax[i].set_xlabel(col_val)\n",
        "# plt.show()"
      ],
      "execution_count": null,
      "outputs": []
    },
    {
      "cell_type": "code",
      "metadata": {
        "id": "u9ziz_z19NfD",
        "colab": {
          "base_uri": "https://localhost:8080/"
        },
        "outputId": "5c3ab192-30fe-41b4-cf32-e09cf850b6d3"
      },
      "source": [
        "#Visualization of race  \n",
        "df.groupby('race')['race'].count().sort_values(ascending=True).plot(title = 'Plot of races', kind = 'barh')"
      ],
      "execution_count": null,
      "outputs": [
        {
          "output_type": "execute_result",
          "data": {
            "text/plain": [
              "<matplotlib.axes._subplots.AxesSubplot at 0x7f08f86b34d0>"
            ]
          },
          "metadata": {
            "tags": []
          },
          "execution_count": 34
        },
        {
          "output_type": "display_data",
          "data": {
            "image/png": "[encoded data removed]",
            "text/plain": [
              "<Figure size 432x288 with 1 Axes>"
            ]
          },
          "metadata": {
            "tags": [],
            "needs_background": "light"
          }
        }
      ]
    },
    {
      "cell_type": "code",
      "metadata": {
        "id": "b9kUU6MA_NyK",
        "colab": {
          "base_uri": "https://localhost:8080/"
        },
        "outputId": "ccb62f21-7ac0-445d-b08f-7078d2a4e845"
      },
      "source": [
        "#Visualization of manner of death\n",
        "explode=(0,0.3)\n",
        "df.groupby('manner_of_death').manner_of_death.count().plot(title = 'Comparison of manner of death', \n",
        "                                                                  kind = 'pie',autopct='%1.1f%%', explode=explode);"
      ],
      "execution_count": null,
      "outputs": [
        {
          "output_type": "display_data",
          "data": {
            "image/png": "[encoded data removed]",
            "text/plain": [
              "<Figure size 432x288 with 1 Axes>"
            ]
          },
          "metadata": {
            "tags": []
          }
        }
      ]
    },
    {
      "cell_type": "code",
      "metadata": {
        "id": "IS0L446GSwE6",
        "colab": {
          "base_uri": "https://localhost:8080/"
        },
        "outputId": "818c73cd-b7d7-4455-90b5-a041b087f734"
      },
      "source": [
        "#visulization of armed\n",
        "df['armed'].value_counts()\n",
        "df.groupby('armed')['armed'].count().sort_values(ascending=False).head().plot(title = 'Arms carried by suspect', \n",
        "                                                                  kind = 'barh');"
      ],
      "execution_count": null,
      "outputs": [
        {
          "output_type": "display_data",
          "data": {
            "image/png": "[encoded data removed]",
            "text/plain": [
              "<Figure size 432x288 with 1 Axes>"
            ]
          },
          "metadata": {
            "tags": [],
            "needs_background": "light"
          }
        }
      ]
    },
    {
      "cell_type": "code",
      "metadata": {
        "id": "6432f_mO_nEg",
        "colab": {
          "base_uri": "https://localhost:8080/"
        },
        "outputId": "0b3c74c4-059c-4171-f771-97afc084314c"
      },
      "source": [
        "#gender distibution\n",
        "df.groupby('gender').gender.count().plot(title = 'Distribution of the genders of victims', kind = 'pie',autopct='%1.1f%%')"
      ],
      "execution_count": null,
      "outputs": [
        {
          "output_type": "execute_result",
          "data": {
            "text/plain": [
              "<matplotlib.axes._subplots.AxesSubplot at 0x7f090f228a50>"
            ]
          },
          "metadata": {
            "tags": []
          },
          "execution_count": 37
        },
        {
          "output_type": "display_data",
          "data": {
            "image/png": "[encoded data removed]",
            "text/plain": [
              "<Figure size 432x288 with 1 Axes>"
            ]
          },
          "metadata": {
            "tags": []
          }
        }
      ]
    },
    {
      "cell_type": "code",
      "metadata": {
        "id": "ziiT7ny8_1T8",
        "colab": {
          "base_uri": "https://localhost:8080/"
        },
        "outputId": "a54cd7f4-b939-4ce3-d21a-94bdd0c52a50"
      },
      "source": [
        "#Plot of mental status\n",
        "df.groupby('signs_of_mental_illness').signs_of_mental_illness.count().plot(title = 'Did victims seem mentally ill?', kind = 'bar')"
      ],
      "execution_count": null,
      "outputs": [
        {
          "output_type": "execute_result",
          "data": {
            "text/plain": [
              "<matplotlib.axes._subplots.AxesSubplot at 0x7f08f85f0450>"
            ]
          },
          "metadata": {
            "tags": []
          },
          "execution_count": 38
        },
        {
          "output_type": "display_data",
          "data": {
            "image/png": "[encoded data removed]",
            "text/plain": [
              "<Figure size 432x288 with 1 Axes>"
            ]
          },
          "metadata": {
            "tags": [],
            "needs_background": "light"
          }
        }
      ]
    },
    {
      "cell_type": "code",
      "metadata": {
        "id": "X9YskqidAErC",
        "colab": {
          "base_uri": "https://localhost:8080/"
        },
        "outputId": "ae1ba3bf-0d53-4a27-b383-ac3b87d742ff"
      },
      "source": [
        "#plotting threat level bar\n",
        "df.groupby('threat_level').threat_level.count().plot(title = 'What level of threat did the victims present?', kind = 'bar')"
      ],
      "execution_count": null,
      "outputs": [
        {
          "output_type": "execute_result",
          "data": {
            "text/plain": [
              "<matplotlib.axes._subplots.AxesSubplot at 0x7f08f8564590>"
            ]
          },
          "metadata": {
            "tags": []
          },
          "execution_count": 39
        },
        {
          "output_type": "display_data",
          "data": {
            "image/png": "[encoded data removed]",
            "text/plain": [
              "<Figure size 432x288 with 1 Axes>"
            ]
          },
          "metadata": {
            "tags": [],
            "needs_background": "light"
          }
        }
      ]
    },
    {
      "cell_type": "code",
      "metadata": {
        "id": "MrNjDJviAU61",
        "colab": {
          "base_uri": "https://localhost:8080/"
        },
        "outputId": "12c8c612-3069-4715-c487-6839e347a287"
      },
      "source": [
        "\n",
        "#Visulazation of flee\n",
        "df.groupby('flee').flee.count().sort_values(ascending=False).plot(title = 'What distribution of the victims attempted to flee',\n",
        "                                                                  kind = 'bar', )\n",
        "plt.xticks(rotation=90)"
      ],
      "execution_count": null,
      "outputs": [
        {
          "output_type": "execute_result",
          "data": {
            "text/plain": [
              "(array([0, 1, 2, 3]), <a list of 4 Text major ticklabel objects>)"
            ]
          },
          "metadata": {
            "tags": []
          },
          "execution_count": 40
        },
        {
          "output_type": "display_data",
          "data": {
            "image/png": "[encoded data removed]",
            "text/plain": [
              "<Figure size 432x288 with 1 Axes>"
            ]
          },
          "metadata": {
            "tags": [],
            "needs_background": "light"
          }
        }
      ]
    },
    {
      "cell_type": "code",
      "metadata": {
        "id": "yxALpS8LAihd",
        "colab": {
          "base_uri": "https://localhost:8080/"
        },
        "outputId": "297e30ec-d674-4a38-afd7-91051e9b246d"
      },
      "source": [
        "#visualizing the body camera information \n",
        "df.groupby('body_camera').body_camera.count().plot(title = 'What distribution of the incidents did police have body cams on?', kind = 'bar')"
      ],
      "execution_count": null,
      "outputs": [
        {
          "output_type": "execute_result",
          "data": {
            "text/plain": [
              "<matplotlib.axes._subplots.AxesSubplot at 0x7f08f84c5810>"
            ]
          },
          "metadata": {
            "tags": []
          },
          "execution_count": 41
        },
        {
          "output_type": "display_data",
          "data": {
            "image/png": "[encoded data removed]",
            "text/plain": [
              "<Figure size 432x288 with 1 Axes>"
            ]
          },
          "metadata": {
            "tags": [],
            "needs_background": "light"
          }
        }
      ]
    },
    {
      "cell_type": "code",
      "metadata": {
        "id": "_eE9Wak4_Rrg"
      },
      "source": [
        ""
      ],
      "execution_count": null,
      "outputs": []
    },
    {
      "cell_type": "markdown",
      "metadata": {
        "id": "XEIDN19M_SIW"
      },
      "source": [
        "##Bivariate Plots"
      ]
    },
    {
      "cell_type": "code",
      "metadata": {
        "colab": {
          "base_uri": "https://localhost:8080/",
          "height": 394
        },
        "id": "LaXnbpLX_SIX",
        "outputId": "47901557-fe11-46f0-e510-c32d75f94235"
      },
      "source": [
        "#Calculating the correlation\n",
        "corr = df.corr()\n",
        "plt.figure()\n",
        "sns.heatmap(corr, xticklabels=corr.columns, yticklabels=corr.columns, annot=True)\n",
        "plt.title('Heatmap showing Correlation of the Numerical Columns', fontsize = 20)\n",
        "plt.show()"
      ],
      "execution_count": null,
      "outputs": [
        {
          "output_type": "display_data",
          "data": {
            "image/png": "[encoded data removed]",
            "text/plain": [
              "<Figure size 432x288 with 2 Axes>"
            ]
          },
          "metadata": {
            "tags": [],
            "needs_background": "light"
          }
        }
      ]
    },
    {
      "cell_type": "code",
      "metadata": {
        "colab": {
          "base_uri": "https://localhost:8080/",
          "height": 569
        },
        "id": "NTyJALn8_SIX",
        "outputId": "01d9dacb-c70f-4bf0-fd2f-923f64c1c671"
      },
      "source": [
        "#Plotting our bar graph \n",
        "df.groupby(['race','manner_of_death']).id.count().sort_values(ascending=False).unstack().plot(kind='bar',figsize=(12,8),stacked = True)\n",
        "\n",
        "# labels and title\n",
        "plt.title('Comparison of the manner of death depending on the race of victim',fontsize=16)\n",
        "plt.xlabel('What is the race of victim',fontsize=14)\n",
        "plt.ylabel('Number',fontsize=14)\n",
        "plt.legend(fontsize=10)"
      ],
      "execution_count": null,
      "outputs": [
        {
          "output_type": "execute_result",
          "data": {
            "text/plain": [
              "<matplotlib.legend.Legend at 0x7f08f9ecb190>"
            ]
          },
          "metadata": {
            "tags": []
          },
          "execution_count": 43
        },
        {
          "output_type": "display_data",
          "data": {
            "image/png": "[encoded data removed]",
            "text/plain": [
              "<Figure size 864x576 with 1 Axes>"
            ]
          },
          "metadata": {
            "tags": [],
            "needs_background": "light"
          }
        }
      ]
    },
    {
      "cell_type": "code",
      "metadata": {
        "colab": {
          "base_uri": "https://localhost:8080/",
          "height": 611
        },
        "id": "NGDYMyGk_SIY",
        "outputId": "c599174b-b2ea-438b-dd14-6673fd01191b"
      },
      "source": [
        "#Plotting our bar graph \n",
        "df.groupby(['manner_of_death','signs_of_mental_illness']).id.count().unstack().plot(kind='bar',figsize=(12,8),stacked = True)\n",
        "\n",
        "# labels and title\n",
        "plt.title('Comparison of the manner of death depending on signs of mental illness',fontsize=16)\n",
        "plt.xlabel('Were there any signs of mental illness',fontsize=14)\n",
        "plt.ylabel('Number',fontsize=14)\n",
        "plt.legend(fontsize=10)"
      ],
      "execution_count": null,
      "outputs": [
        {
          "output_type": "execute_result",
          "data": {
            "text/plain": [
              "<matplotlib.legend.Legend at 0x7f08f8431090>"
            ]
          },
          "metadata": {
            "tags": []
          },
          "execution_count": 44
        },
        {
          "output_type": "display_data",
          "data": {
            "image/png": "[encoded data removed]",
            "text/plain": [
              "<Figure size 864x576 with 1 Axes>"
            ]
          },
          "metadata": {
            "tags": [],
            "needs_background": "light"
          }
        }
      ]
    },
    {
      "cell_type": "code",
      "metadata": {
        "colab": {
          "base_uri": "https://localhost:8080/",
          "height": 611
        },
        "id": "ivTJP8c5_SIY",
        "outputId": "4ad597e8-666e-4737-f595-adf359fb76b8"
      },
      "source": [
        "#Plotting our bar graph \n",
        "df.groupby(['manner_of_death','threat_level']).id.count().unstack().plot(kind='bar',figsize=(12,8))\n",
        "\n",
        "# labels and title\n",
        "plt.title('Comparison of the manner of death depending on level of threat',fontsize=16)\n",
        "plt.xlabel('Level of threat',fontsize=14)\n",
        "plt.ylabel('Number',fontsize=14)\n",
        "plt.legend(fontsize=10)"
      ],
      "execution_count": null,
      "outputs": [
        {
          "output_type": "execute_result",
          "data": {
            "text/plain": [
              "<matplotlib.legend.Legend at 0x7f08f8431a50>"
            ]
          },
          "metadata": {
            "tags": []
          },
          "execution_count": 45
        },
        {
          "output_type": "display_data",
          "data": {
            "image/png": "[encoded data removed]",
            "text/plain": [
              "<Figure size 864x576 with 1 Axes>"
            ]
          },
          "metadata": {
            "tags": [],
            "needs_background": "light"
          }
        }
      ]
    },
    {
      "cell_type": "code",
      "metadata": {
        "colab": {
          "base_uri": "https://localhost:8080/",
          "height": 611
        },
        "id": "jO904hGp_SIZ",
        "outputId": "e0cbe2d4-03b1-43bc-f279-552689617a90"
      },
      "source": [
        "#Plotting our bar graph \n",
        "df.groupby(['manner_of_death','flee']).id.count().unstack().plot(kind='bar',figsize=(12,8))\n",
        "\n",
        "# labels and title\n",
        "plt.title('Comparison of whether fleeing of the suspect affected the manner of death',fontsize=16)\n",
        "plt.xlabel('How did the suspect flee',fontsize=14)\n",
        "plt.ylabel('Number',fontsize=14)\n",
        "plt.legend(fontsize=10)"
      ],
      "execution_count": null,
      "outputs": [
        {
          "output_type": "execute_result",
          "data": {
            "text/plain": [
              "<matplotlib.legend.Legend at 0x7f08f82f2750>"
            ]
          },
          "metadata": {
            "tags": []
          },
          "execution_count": 46
        },
        {
          "output_type": "display_data",
          "data": {
            "image/png": "[encoded data removed]",
            "text/plain": [
              "<Figure size 864x576 with 1 Axes>"
            ]
          },
          "metadata": {
            "tags": [],
            "needs_background": "light"
          }
        }
      ]
    },
    {
      "cell_type": "code",
      "metadata": {
        "colab": {
          "base_uri": "https://localhost:8080/",
          "height": 569
        },
        "id": "ymrMV8h1_SIa",
        "outputId": "0c559f1c-a1e0-4d71-ed3b-5cd82d099728"
      },
      "source": [
        "#Plotting our bar graph \n",
        "df.groupby(['race','gender']).id.count().sort_values(ascending=False).unstack().plot(kind='bar',figsize=(12,8), stacked = True) \n",
        "\n",
        "# labels and title\n",
        "plt.title('Correlaton between the victims gender to their race',fontsize=16)\n",
        "plt.xlabel('Race of victim',fontsize=14)\n",
        "plt.ylabel('Number',fontsize=14)\n",
        "plt.legend(fontsize=10)"
      ],
      "execution_count": null,
      "outputs": [
        {
          "output_type": "execute_result",
          "data": {
            "text/plain": [
              "<matplotlib.legend.Legend at 0x7f08f8221110>"
            ]
          },
          "metadata": {
            "tags": []
          },
          "execution_count": 47
        },
        {
          "output_type": "display_data",
          "data": {
            "image/png": "[encoded data removed]",
            "text/plain": [
              "<Figure size 864x576 with 1 Axes>"
            ]
          },
          "metadata": {
            "tags": [],
            "needs_background": "light"
          }
        }
      ]
    },
    {
      "cell_type": "code",
      "metadata": {
        "colab": {
          "base_uri": "https://localhost:8080/",
          "height": 534
        },
        "id": "QUdkRCuh_SIb",
        "outputId": "339d4eba-4e0e-41ad-f6fd-6343dcb9ccf9"
      },
      "source": [
        "#Plotting our bar graph \n",
        "df.groupby(['gender','signs_of_mental_illness']).id.count().unstack().plot(kind='bar',figsize=(12,8),stacked=True) \n",
        "\n",
        "# labels and title\n",
        "plt.title('Correlaton between the victims gender to showing signs of mental illnesses',fontsize=16)\n",
        "plt.xlabel('Did victim show signs of mental illnesses',fontsize=14)\n",
        "plt.ylabel('Number',fontsize=14)\n",
        "plt.legend(fontsize=10)"
      ],
      "execution_count": null,
      "outputs": [
        {
          "output_type": "execute_result",
          "data": {
            "text/plain": [
              "<matplotlib.legend.Legend at 0x7f08f8208fd0>"
            ]
          },
          "metadata": {
            "tags": []
          },
          "execution_count": 48
        },
        {
          "output_type": "display_data",
          "data": {
            "image/png": "[encoded data removed]",
            "text/plain": [
              "<Figure size 864x576 with 1 Axes>"
            ]
          },
          "metadata": {
            "tags": [],
            "needs_background": "light"
          }
        }
      ]
    },
    {
      "cell_type": "code",
      "metadata": {
        "colab": {
          "base_uri": "https://localhost:8080/",
          "height": 534
        },
        "id": "Sj6N4dbc_SIb",
        "outputId": "16082d75-6d3e-48a5-adcd-d206d3109c0c"
      },
      "source": [
        "#Plotting our bar graph \n",
        "df.groupby(['gender','threat_level']).id.count().unstack().plot(kind='bar',figsize=(12,8), stacked = True) \n",
        "\n",
        "# labels and title\n",
        "plt.title('Correlaton between the victims gender to threat level observed',fontsize=16)\n",
        "# plt.xticks(rotation = 60)\n",
        "plt.xlabel('Did victim act in a threatening manner',fontsize=14)\n",
        "plt.ylabel('Number',fontsize=14)\n",
        "plt.legend(fontsize=10)"
      ],
      "execution_count": null,
      "outputs": [
        {
          "output_type": "execute_result",
          "data": {
            "text/plain": [
              "<matplotlib.legend.Legend at 0x7f08f82c9b50>"
            ]
          },
          "metadata": {
            "tags": []
          },
          "execution_count": 49
        },
        {
          "output_type": "display_data",
          "data": {
            "image/png": "[encoded data removed]",
            "text/plain": [
              "<Figure size 864x576 with 1 Axes>"
            ]
          },
          "metadata": {
            "tags": [],
            "needs_background": "light"
          }
        }
      ]
    },
    {
      "cell_type": "code",
      "metadata": {
        "colab": {
          "base_uri": "https://localhost:8080/",
          "height": 581
        },
        "id": "bzg9vHcp_SIc",
        "outputId": "18fff06a-6ceb-4929-a823-5ba07118be48"
      },
      "source": [
        "#Plotting our bar graph \n",
        "df.groupby(['flee','gender']).id.count().unstack().plot(kind='bar',figsize=(12,8), stacked = True) \n",
        "\n",
        "# labels and title\n",
        "plt.title('Correlaton between the victims gender to their attempt to flee',fontsize=16)\n",
        "plt.xlabel('Did victim attempt to flee? and if they did how?',fontsize=14)\n",
        "plt.ylabel('Number',fontsize=14)\n",
        "plt.legend(fontsize=10)"
      ],
      "execution_count": null,
      "outputs": [
        {
          "output_type": "execute_result",
          "data": {
            "text/plain": [
              "<matplotlib.legend.Legend at 0x7f08f86893d0>"
            ]
          },
          "metadata": {
            "tags": []
          },
          "execution_count": 50
        },
        {
          "output_type": "display_data",
          "data": {
            "image/png": "[encoded data removed]",
            "text/plain": [
              "<Figure size 864x576 with 1 Axes>"
            ]
          },
          "metadata": {
            "tags": [],
            "needs_background": "light"
          }
        }
      ]
    },
    {
      "cell_type": "code",
      "metadata": {
        "colab": {
          "base_uri": "https://localhost:8080/",
          "height": 534
        },
        "id": "t2fuKIXD_SIc",
        "outputId": "e6c7ccfa-cd5f-4c54-ea3c-67f1a15a33ff"
      },
      "source": [
        "#Plotting our bar graph \n",
        "df.groupby(['gender','body_camera']).id.count().unstack().plot(kind='bar',figsize=(12,8), stacked = True) \n",
        "\n",
        "# labels and title\n",
        "plt.title('Correlaton between the victims gender and the police body camera being used',fontsize=16)\n",
        "plt.xlabel('Gender',fontsize=14)\n",
        "plt.ylabel('Number',fontsize=14)\n",
        "plt.legend(fontsize=10)"
      ],
      "execution_count": null,
      "outputs": [
        {
          "output_type": "execute_result",
          "data": {
            "text/plain": [
              "<matplotlib.legend.Legend at 0x7f08f74af2d0>"
            ]
          },
          "metadata": {
            "tags": []
          },
          "execution_count": 91
        },
        {
          "output_type": "display_data",
          "data": {
            "image/png": "[encoded data removed]",
            "text/plain": [
              "<Figure size 864x576 with 1 Axes>"
            ]
          },
          "metadata": {
            "tags": [],
            "needs_background": "light"
          }
        }
      ]
    },
    {
      "cell_type": "code",
      "metadata": {
        "colab": {
          "base_uri": "https://localhost:8080/",
          "height": 532
        },
        "id": "ng52hhLs_SIc",
        "outputId": "a367e8ed-72b7-4238-a352-d337e21007ca"
      },
      "source": [
        "#Plotting our bar graph \n",
        "df.groupby(['gender','arms_category']).id.count().head(3).unstack().plot(kind='bar',figsize=(12,8)) \n",
        "\n",
        "# labels and title\n",
        "plt.title('Correlaton between the victims gender and the arms they were carrying',fontsize=16)\n",
        "plt.xlabel('What arms did the victims have?',fontsize=14)\n",
        "plt.ylabel('Number',fontsize=14)\n",
        "plt.legend(fontsize=10)"
      ],
      "execution_count": null,
      "outputs": [
        {
          "output_type": "execute_result",
          "data": {
            "text/plain": [
              "<matplotlib.legend.Legend at 0x7f08f7fe0d10>"
            ]
          },
          "metadata": {
            "tags": []
          },
          "execution_count": 52
        },
        {
          "output_type": "display_data",
          "data": {
            "image/png": "[encoded data removed]",
            "text/plain": [
              "<Figure size 864x576 with 1 Axes>"
            ]
          },
          "metadata": {
            "tags": [],
            "needs_background": "light"
          }
        }
      ]
    },
    {
      "cell_type": "code",
      "metadata": {
        "colab": {
          "base_uri": "https://localhost:8080/",
          "height": 569
        },
        "id": "KuH5aPK4_SId",
        "outputId": "93077c3c-6b65-4912-e08c-31ee8abd051a"
      },
      "source": [
        "#Plotting our bar graph \n",
        "df.groupby(['race','signs_of_mental_illness']).id.count().unstack().plot(kind='bar',figsize=(12,8), stacked = True) \n",
        "\n",
        "# labels and title\n",
        "plt.title('Correlaton between the victims race and signs of mental illness',fontsize=16)\n",
        "plt.xlabel('Did victim show signs of mental illness?',fontsize=14)\n",
        "plt.ylabel('Number',fontsize=14)\n",
        "plt.legend(fontsize=10)"
      ],
      "execution_count": null,
      "outputs": [
        {
          "output_type": "execute_result",
          "data": {
            "text/plain": [
              "<matplotlib.legend.Legend at 0x7f08f7ffbd10>"
            ]
          },
          "metadata": {
            "tags": []
          },
          "execution_count": 53
        },
        {
          "output_type": "display_data",
          "data": {
            "image/png": "[encoded data removed]",
            "text/plain": [
              "<Figure size 864x576 with 1 Axes>"
            ]
          },
          "metadata": {
            "tags": [],
            "needs_background": "light"
          }
        }
      ]
    },
    {
      "cell_type": "code",
      "metadata": {
        "colab": {
          "base_uri": "https://localhost:8080/",
          "height": 536
        },
        "id": "y1Gluctf_SId",
        "outputId": "42f3abf8-a2d2-496d-b141-550ece4b7ad7"
      },
      "source": [
        "#Plotting our bar graph \n",
        "df.groupby(['race','threat_level']).id.count().sort_values(ascending =True).unstack().plot(kind='barh',figsize=(12,8), stacked = True) \n",
        "\n",
        "# labels and title\n",
        "plt.title('Correlaton between the victims race and threat level',fontsize=16)\n",
        "plt.xlabel('What threatlevel did the victim display',fontsize=14)\n",
        "plt.ylabel('Number',fontsize=14)\n",
        "plt.legend(fontsize=10)"
      ],
      "execution_count": null,
      "outputs": [
        {
          "output_type": "execute_result",
          "data": {
            "text/plain": [
              "<matplotlib.legend.Legend at 0x7f08f8011190>"
            ]
          },
          "metadata": {
            "tags": []
          },
          "execution_count": 54
        },
        {
          "output_type": "display_data",
          "data": {
            "image/png": "[encoded data removed]",
            "text/plain": [
              "<Figure size 864x576 with 1 Axes>"
            ]
          },
          "metadata": {
            "tags": [],
            "needs_background": "light"
          }
        }
      ]
    },
    {
      "cell_type": "code",
      "metadata": {
        "colab": {
          "base_uri": "https://localhost:8080/",
          "height": 569
        },
        "id": "5ktq7gJP_SIe",
        "outputId": "2dc1562c-2113-42dd-a18f-206164976434"
      },
      "source": [
        "#Plotting our bar graph \n",
        "df.groupby(['race','flee']).id.count().unstack().plot(kind='bar',figsize=(12,8),stacked = True) \n",
        "\n",
        "# labels and title\n",
        "plt.title('Correlaton between the victims race and whether the victim attempted to flee',fontsize=16)\n",
        "plt.xlabel('Did the victim attempt to flee? and if soo, how?',fontsize=14)\n",
        "plt.ylabel('Number',fontsize=14)\n",
        "plt.legend(fontsize=10)"
      ],
      "execution_count": null,
      "outputs": [
        {
          "output_type": "execute_result",
          "data": {
            "text/plain": [
              "<matplotlib.legend.Legend at 0x7f08f8011ad0>"
            ]
          },
          "metadata": {
            "tags": []
          },
          "execution_count": 55
        },
        {
          "output_type": "display_data",
          "data": {
            "image/png": "[encoded data removed]",
            "text/plain": [
              "<Figure size 864x576 with 1 Axes>"
            ]
          },
          "metadata": {
            "tags": [],
            "needs_background": "light"
          }
        }
      ]
    },
    {
      "cell_type": "code",
      "metadata": {
        "colab": {
          "base_uri": "https://localhost:8080/",
          "height": 569
        },
        "id": "L2YDlVIX_SIe",
        "outputId": "b627cb52-e2aa-46e7-cc8d-47bd9de739c8"
      },
      "source": [
        "#Plotting our bar graph \n",
        "df.groupby(['race','body_camera']).id.count().unstack().plot(kind='bar',figsize=(12,8)) \n",
        "\n",
        "# labels and title\n",
        "plt.title('Correlaton between the victims race and whether the police body camera was on',fontsize=16)\n",
        "plt.xlabel('Was thee police body camera on?',fontsize=14)\n",
        "plt.ylabel('Number',fontsize=14)\n",
        "plt.legend(fontsize=10)"
      ],
      "execution_count": null,
      "outputs": [
        {
          "output_type": "execute_result",
          "data": {
            "text/plain": [
              "<matplotlib.legend.Legend at 0x7f08f7d99890>"
            ]
          },
          "metadata": {
            "tags": []
          },
          "execution_count": 56
        },
        {
          "output_type": "display_data",
          "data": {
            "image/png": "[encoded data removed]",
            "text/plain": [
              "<Figure size 864x576 with 1 Axes>"
            ]
          },
          "metadata": {
            "tags": [],
            "needs_background": "light"
          }
        }
      ]
    },
    {
      "cell_type": "code",
      "metadata": {
        "colab": {
          "base_uri": "https://localhost:8080/",
          "height": 596
        },
        "id": "uC3cyPTk_SIe",
        "outputId": "c309db5f-7013-4258-eff3-3b26a87bf275"
      },
      "source": [
        "#Plotting our bar graph \n",
        "df.groupby(['threat_level','signs_of_mental_illness']).id.count().unstack().plot(kind='bar',figsize=(12,8)) \n",
        "\n",
        "# labels and title\n",
        "plt.title('Correlaton between the victims mental state and the victims threat level',fontsize=16)\n",
        "plt.xlabel('What threat level did the victim display',fontsize=14)\n",
        "plt.ylabel('Number',fontsize=14)\n",
        "plt.legend(fontsize=10)"
      ],
      "execution_count": null,
      "outputs": [
        {
          "output_type": "execute_result",
          "data": {
            "text/plain": [
              "<matplotlib.legend.Legend at 0x7f08f7e07690>"
            ]
          },
          "metadata": {
            "tags": []
          },
          "execution_count": 57
        },
        {
          "output_type": "display_data",
          "data": {
            "image/png": "[encoded data removed]",
            "text/plain": [
              "<Figure size 864x576 with 1 Axes>"
            ]
          },
          "metadata": {
            "tags": [],
            "needs_background": "light"
          }
        }
      ]
    },
    {
      "cell_type": "code",
      "metadata": {
        "colab": {
          "base_uri": "https://localhost:8080/",
          "height": 581
        },
        "id": "7byA0eHP_SIf",
        "outputId": "4d7038cc-4e75-4cec-9810-4544bdc79a44"
      },
      "source": [
        "#Plotting our bar graph \n",
        "df.groupby(['flee','signs_of_mental_illness']).id.count().unstack().plot(kind='bar',figsize=(12,8)) \n",
        "\n",
        "# labels and title\n",
        "plt.title('Correlaton between the victims mental state and the victims attempt to flee',fontsize=16)\n",
        "plt.xlabel('Did the victim attempt to flee?',fontsize=14)\n",
        "plt.ylabel('Number',fontsize=14)\n",
        "plt.legend(fontsize=10)"
      ],
      "execution_count": null,
      "outputs": [
        {
          "output_type": "execute_result",
          "data": {
            "text/plain": [
              "<matplotlib.legend.Legend at 0x7f08f7e07290>"
            ]
          },
          "metadata": {
            "tags": []
          },
          "execution_count": 58
        },
        {
          "output_type": "display_data",
          "data": {
            "image/png": "[encoded data removed]",
            "text/plain": [
              "<Figure size 864x576 with 1 Axes>"
            ]
          },
          "metadata": {
            "tags": [],
            "needs_background": "light"
          }
        }
      ]
    },
    {
      "cell_type": "code",
      "metadata": {
        "colab": {
          "base_uri": "https://localhost:8080/",
          "height": 551
        },
        "id": "so27ZENp_SIf",
        "outputId": "662bb78d-8c59-404d-c85d-9a1ae48edf06"
      },
      "source": [
        "#Plotting our bar graph \n",
        "df.groupby(['signs_of_mental_illness','body_camera']).id.count().unstack().plot(kind='bar',figsize=(12,8)) \n",
        "\n",
        "# labels and title\n",
        "plt.title('Correlaton between the victims mental state and the police body camera being on',fontsize=16)\n",
        "plt.xlabel('Was the body camera on?',fontsize=14)\n",
        "plt.ylabel('Number',fontsize=14)\n",
        "plt.legend(fontsize=10)"
      ],
      "execution_count": null,
      "outputs": [
        {
          "output_type": "execute_result",
          "data": {
            "text/plain": [
              "<matplotlib.legend.Legend at 0x7f08f7e07e50>"
            ]
          },
          "metadata": {
            "tags": []
          },
          "execution_count": 59
        },
        {
          "output_type": "display_data",
          "data": {
            "image/png": "[encoded data removed]",
            "text/plain": [
              "<Figure size 864x576 with 1 Axes>"
            ]
          },
          "metadata": {
            "tags": [],
            "needs_background": "light"
          }
        }
      ]
    },
    {
      "cell_type": "code",
      "metadata": {
        "colab": {
          "base_uri": "https://localhost:8080/",
          "height": 536
        },
        "id": "haTuguQY_SIf",
        "outputId": "5816447b-3fe7-4e50-ac6e-c9da0cb979d6"
      },
      "source": [
        "#Plotting our bar graph \n",
        "df.groupby(['arms_category','signs_of_mental_illness']).id.count().unstack().plot(kind='barh',figsize=(12,8), stacked = True) \n",
        "\n",
        "# labels and title\n",
        "plt.title('Correlaton between the victims mental state and the kind of arms they were carrying',fontsize=16)\n",
        "plt.ylabel('What arms were the victims carrying?',fontsize=14)\n",
        "plt.xlabel('Number',fontsize=14)\n",
        "plt.legend(fontsize=10)"
      ],
      "execution_count": null,
      "outputs": [
        {
          "output_type": "execute_result",
          "data": {
            "text/plain": [
              "<matplotlib.legend.Legend at 0x7f08f7cc39d0>"
            ]
          },
          "metadata": {
            "tags": []
          },
          "execution_count": 60
        },
        {
          "output_type": "display_data",
          "data": {
            "image/png": "[encoded data removed]",
            "text/plain": [
              "<Figure size 864x576 with 1 Axes>"
            ]
          },
          "metadata": {
            "tags": [],
            "needs_background": "light"
          }
        }
      ]
    },
    {
      "cell_type": "code",
      "metadata": {
        "colab": {
          "base_uri": "https://localhost:8080/",
          "height": 581
        },
        "id": "LWrdevv-_SIg",
        "outputId": "6685383d-940f-4966-973c-99838b5edb2c"
      },
      "source": [
        "#Plotting our bar graph \n",
        "df.groupby(['flee','threat_level']).id.count().unstack().plot(kind='bar',figsize=(12,8)) \n",
        "\n",
        "# labels and title\n",
        "plt.title('Correlaton between the victims threat level and their attempt to flee',fontsize=16)\n",
        "plt.xlabel('How did the victim attempt to flee',fontsize=14)\n",
        "plt.ylabel('Number',fontsize=14)\n",
        "plt.legend(fontsize=10)"
      ],
      "execution_count": null,
      "outputs": [
        {
          "output_type": "execute_result",
          "data": {
            "text/plain": [
              "<matplotlib.legend.Legend at 0x7f08f7cab190>"
            ]
          },
          "metadata": {
            "tags": []
          },
          "execution_count": 61
        },
        {
          "output_type": "display_data",
          "data": {
            "image/png": "[encoded data removed]",
            "text/plain": [
              "<Figure size 864x576 with 1 Axes>"
            ]
          },
          "metadata": {
            "tags": [],
            "needs_background": "light"
          }
        }
      ]
    },
    {
      "cell_type": "code",
      "metadata": {
        "colab": {
          "base_uri": "https://localhost:8080/",
          "height": 596
        },
        "id": "WIMqUgr0_SIg",
        "outputId": "01b0fdf9-74bd-4125-ebc9-6ac942c25aa8"
      },
      "source": [
        "#Plotting our bar graph \n",
        "df.groupby(['threat_level','body_camera']).id.count().unstack().plot(kind='bar',figsize=(12,8), stacked = True) \n",
        "\n",
        "# labels and title\n",
        "plt.title('Correlaton between the victims threat level and the police body camera being on',fontsize=16)\n",
        "plt.xlabel('Was the body camera on',fontsize=14)\n",
        "plt.ylabel('Number',fontsize=14)\n",
        "plt.legend(fontsize=10)"
      ],
      "execution_count": null,
      "outputs": [
        {
          "output_type": "execute_result",
          "data": {
            "text/plain": [
              "<matplotlib.legend.Legend at 0x7f08f7bcd550>"
            ]
          },
          "metadata": {
            "tags": []
          },
          "execution_count": 62
        },
        {
          "output_type": "display_data",
          "data": {
            "image/png": "[encoded data removed]",
            "text/plain": [
              "<Figure size 864x576 with 1 Axes>"
            ]
          },
          "metadata": {
            "tags": [],
            "needs_background": "light"
          }
        }
      ]
    },
    {
      "cell_type": "code",
      "metadata": {
        "colab": {
          "base_uri": "https://localhost:8080/",
          "height": 636
        },
        "id": "I7Q9az5f_SIg",
        "outputId": "88974812-fb66-4abc-969b-e43bd4083930"
      },
      "source": [
        "#Plotting our bar graph \n",
        "df.groupby(['arms_category','threat_level']).id.count().unstack().plot(kind='bar',figsize=(12,8), stacked = True) \n",
        "\n",
        "# labels and title\n",
        "plt.title('Correlaton between the victims threat level and the type of arms they are carrying',fontsize=16)\n",
        "plt.xlabel('What arms were the victims carrying',fontsize=14)\n",
        "plt.ylabel('Number',fontsize=14)\n",
        "plt.legend(fontsize=10)"
      ],
      "execution_count": null,
      "outputs": [
        {
          "output_type": "execute_result",
          "data": {
            "text/plain": [
              "<matplotlib.legend.Legend at 0x7f08f799f8d0>"
            ]
          },
          "metadata": {
            "tags": []
          },
          "execution_count": 63
        },
        {
          "output_type": "display_data",
          "data": {
            "image/png": "[encoded data removed]",
            "text/plain": [
              "<Figure size 864x576 with 1 Axes>"
            ]
          },
          "metadata": {
            "tags": [],
            "needs_background": "light"
          }
        }
      ]
    },
    {
      "cell_type": "code",
      "metadata": {
        "colab": {
          "base_uri": "https://localhost:8080/",
          "height": 581
        },
        "id": "MFo31BXH_SIg",
        "outputId": "65a46986-b6ea-4dd8-96bc-c5a15c5410e2"
      },
      "source": [
        "#Plotting our bar graph \n",
        "df.groupby(['flee','body_camera']).id.count().unstack().plot(kind='bar',figsize=(12,8), stacked = True)\n",
        "\n",
        "# labels and title\n",
        "plt.title('relaton between the victims attempt to flee and whether police had body camera on',fontsize=16)\n",
        "plt.xlabel('Was the body camera on',fontsize=14)\n",
        "plt.ylabel('Number',fontsize=14)\n",
        "plt.legend(fontsize=10)"
      ],
      "execution_count": null,
      "outputs": [
        {
          "output_type": "execute_result",
          "data": {
            "text/plain": [
              "<matplotlib.legend.Legend at 0x7f08f79df110>"
            ]
          },
          "metadata": {
            "tags": []
          },
          "execution_count": 64
        },
        {
          "output_type": "display_data",
          "data": {
            "image/png": "[encoded data removed]",
            "text/plain": [
              "<Figure size 864x576 with 1 Axes>"
            ]
          },
          "metadata": {
            "tags": [],
            "needs_background": "light"
          }
        }
      ]
    },
    {
      "cell_type": "code",
      "metadata": {
        "colab": {
          "base_uri": "https://localhost:8080/",
          "height": 636
        },
        "id": "SZ4zb3sg_SIh",
        "outputId": "02870eb7-916d-4707-c98f-22b55b8e6405"
      },
      "source": [
        "#Plotting our bar graph \n",
        "df.groupby(['arms_category','flee']).id.count().unstack().plot(kind='bar',figsize=(12,8), stacked = True) \n",
        "\n",
        "# labels and title\n",
        "plt.title('Correlaton between the victims attempting to flee and the arms they ar carrying',fontsize=16)\n",
        "plt.xlabel('What arm was the victim carrying',fontsize=14)\n",
        "plt.ylabel('Number',fontsize=14)\n",
        "plt.legend(fontsize=10)"
      ],
      "execution_count": null,
      "outputs": [
        {
          "output_type": "execute_result",
          "data": {
            "text/plain": [
              "<matplotlib.legend.Legend at 0x7f08f78bff10>"
            ]
          },
          "metadata": {
            "tags": []
          },
          "execution_count": 65
        },
        {
          "output_type": "display_data",
          "data": {
            "image/png": "[encoded data removed]",
            "text/plain": [
              "<Figure size 864x576 with 1 Axes>"
            ]
          },
          "metadata": {
            "tags": [],
            "needs_background": "light"
          }
        }
      ]
    },
    {
      "cell_type": "code",
      "metadata": {
        "colab": {
          "base_uri": "https://localhost:8080/",
          "height": 636
        },
        "id": "jAvy0vSw_SIh",
        "outputId": "e0974c21-961d-44ff-a130-7bde2b67f946"
      },
      "source": [
        "#Plotting our bar graph \n",
        "df.groupby(['arms_category','body_camera']).id.count().unstack().plot(kind='bar',figsize=(12,8), stacked = True) \n",
        "\n",
        "# labels and title\n",
        "plt.title('Correlaton between the the body camera being on and what arms the victim was carrying',fontsize=16)\n",
        "plt.xlabel('What arms was the victim carrying',fontsize=14)\n",
        "plt.ylabel('Number',fontsize=14)\n",
        "plt.legend(fontsize=10)"
      ],
      "execution_count": null,
      "outputs": [
        {
          "output_type": "execute_result",
          "data": {
            "text/plain": [
              "<matplotlib.legend.Legend at 0x7f08f772b490>"
            ]
          },
          "metadata": {
            "tags": []
          },
          "execution_count": 66
        },
        {
          "output_type": "display_data",
          "data": {
            "image/png": "[encoded data removed]",
            "text/plain": [
              "<Figure size 864x576 with 1 Axes>"
            ]
          },
          "metadata": {
            "tags": [],
            "needs_background": "light"
          }
        }
      ]
    },
    {
      "cell_type": "code",
      "metadata": {
        "colab": {
          "base_uri": "https://localhost:8080/",
          "height": 569
        },
        "id": "pNAPoNYs_SIh",
        "outputId": "e5eac952-8445-41a7-8568-d376d0b82a0e"
      },
      "source": [
        "#Plotting our bar graph \n",
        "df.groupby(['race', 'body_camera']).id.count().unstack().plot(kind='bar',figsize=(12,8))\n",
        "\n",
        "# labels and title\n",
        "plt.title('Comparison of usage of body cameras dependent on different races',fontsize=16)\n",
        "plt.xlabel('Was body camera on?',fontsize=14)\n",
        "plt.ylabel('Number',fontsize=14)\n",
        "plt.legend(fontsize=10)"
      ],
      "execution_count": null,
      "outputs": [
        {
          "output_type": "execute_result",
          "data": {
            "text/plain": [
              "<matplotlib.legend.Legend at 0x7f08f76af890>"
            ]
          },
          "metadata": {
            "tags": []
          },
          "execution_count": 67
        },
        {
          "output_type": "display_data",
          "data": {
            "image/png": "[encoded data removed]",
            "text/plain": [
              "<Figure size 864x576 with 1 Axes>"
            ]
          },
          "metadata": {
            "tags": [],
            "needs_background": "light"
          }
        }
      ]
    },
    {
      "cell_type": "code",
      "metadata": {
        "id": "lGNBYB2b_Rj5"
      },
      "source": [
        ""
      ],
      "execution_count": null,
      "outputs": []
    },
    {
      "cell_type": "markdown",
      "metadata": {
        "id": "8C08FlQrZZ3h"
      },
      "source": [
        "##Multivariate Plots"
      ]
    },
    {
      "cell_type": "code",
      "metadata": {
        "id": "_5ujkKG2jPjj"
      },
      "source": [
        "# import sys\n",
        "# !{sys.executable} -m pip install -U pandas-profiling[notebook]\n",
        "# !jupyter nbextension enable --py widgetsnbextension"
      ],
      "execution_count": null,
      "outputs": []
    },
    {
      "cell_type": "code",
      "metadata": {
        "id": "NyJA5GMQZv-4"
      },
      "source": [
        "# !pip install https://github.com/pandas-profiling/pandas-profiling/archive/master.zip\n",
        "  \n",
        "# from pandas_profiling import ProfileReport\n",
        "\n",
        "# import sys\n",
        "# !{sys.executable} -m pip install -U pandas-profiling[notebook]\n",
        "# !jupyter nbextension enable --py widgetsnbextension"
      ],
      "execution_count": null,
      "outputs": []
    },
    {
      "cell_type": "code",
      "metadata": {
        "id": "HTvwO7ooZ8bk"
      },
      "source": [
        "# profile = ProfileReport(df, title='Pandas Profiling Report - Police Shooting in the US', explorative=True)\n",
        "# profile.to_widgets()"
      ],
      "execution_count": null,
      "outputs": []
    },
    {
      "cell_type": "code",
      "metadata": {
        "id": "A7FR9FZ4Bnqe"
      },
      "source": [
        "# ## Check the equality of the variances between the two groups using Levene's test\n",
        "\n",
        "# stat,p = stats.levene(day_sample['bluecars_taken_sum'], end_sample['bluecars_taken_sum'], center='mean') \n",
        "# # we use center = mean because our samples are fairly/moderately skewed\n",
        "\n",
        "# print('Statistic=%.4f, pvalue=%.4f' % (stat, p))\n",
        "# print('\\n')\n",
        "# # Interpretation of the Levene's test results\n",
        "\n",
        "# alpha = 0.05\n",
        "# if p <= alpha:\n",
        "# \tprint('The two variances are significantly different')\n",
        "# else:\n",
        "# \tprint('The two variances are approximately equal')\n",
        "# print('\\n')\n",
        "# print('\\n')\n",
        "# # calculate the means\n",
        "\n",
        "# # a) of the bluecars taken on monday dataframe\n",
        "\n",
        "# day_mean = day_sample['bluecars_taken_sum'].mean()\n",
        "\n",
        "# print('The mean of the Monday bluecars rented out data sample is: ', day_mean)\n",
        "# print('\\n')\n",
        "# print('\\n')\n",
        "# # b) of the bluecars taken on Friday dataframe\n",
        "\n",
        "# end_mean = end_sample['bluecars_taken_sum'].mean()\n",
        "\n",
        "# print('The mean of the Friday bluecars rented out data sample is: ', end_mean)\n",
        "# print('\\n')\n",
        "# print('\\n')\n",
        "# # calculate the standard deviation:\n",
        "\n",
        "# # a) of the bluecars taken on monday dataframe\n",
        "\n",
        "# day_std = day_sample['bluecars_taken_sum'].std()\n",
        "\n",
        "# print('The standard deviation of the Monday bluecars rented out data sample is: ', day_std)\n",
        "# print('\\n')\n",
        "# print('\\n')\n",
        "# # b) of the bluecars taken on friday dataframe\n",
        "\n",
        "# end_std = end_sample['bluecars_taken_sum'].std()\n",
        "\n",
        "# print('The standard deviation of the Friday bluecars rented out data sample is: ', end_std)\n",
        "# print('\\n')\n",
        "# print('\\n')\n",
        "# # calculate the standard error (se = std / sqrt(n)):\n",
        "\n",
        "# # a) of the bluecars taken on monday dataframe\n",
        "\n",
        "# day_std_error = day_std/ len(day_sample)\n",
        "\n",
        "# print('The standard error of the Monday bluecars rented out data sample is: ', day_std_error)\n",
        "# print('\\n')\n",
        "# print('\\n')\n",
        "# # b) of the bluecars taken on friday dataframe\n",
        "\n",
        "# end_std_error = end_std/ len(end_sample)\n",
        "\n",
        "# print('The standard error of the Friday bluecars rented out data sample is ', end_std_error)\n",
        "# print('\\n')\n",
        "# print('\\n')\n",
        "\n",
        "# difference = sqrt((day_std_error**2) + (end_std_error**2))\n",
        "\n",
        "# print(\"the standard error of the difference between the means is:\",difference)\n",
        "# print('\\n')\n",
        "# print('\\n')\n",
        "\n",
        "# #find the T statistic\n",
        "\n",
        "# t_statistic = (day_mean - end_mean)/difference\n",
        "\n",
        "\n",
        "# print(\"The T statistic is\",t_statistic)\n",
        "# print('\\n')\n",
        "# print('\\n')\n",
        "\n",
        "\n",
        "# # find the critical value\n",
        "\n",
        "# c_value = t.ppf(1.0 - alpha, freedom)\n",
        "\n",
        "# c_value\n",
        "# print(\"the Critical value is\", c_value)\n",
        "# print('\\n')\n",
        "# print('\\n')"
      ],
      "execution_count": null,
      "outputs": []
    },
    {
      "cell_type": "markdown",
      "metadata": {
        "id": "72x73no0kgT2"
      },
      "source": [
        "# **8. Hypothesis Testing**"
      ]
    },
    {
      "cell_type": "markdown",
      "metadata": {
        "id": "BAferV5O-hMx"
      },
      "source": [
        "## Do police shoot more minorities than white people?\n",
        "\n"
      ]
    },
    {
      "cell_type": "markdown",
      "metadata": {
        "id": "dfyVxO8IxIfx"
      },
      "source": [
        "Null hypothesis: People of minority races are shot by police more than white individuals\n",
        "\n",
        "Alternative hypothesis: People of minority races are shot by police less than the white individuals.\n",
        "\n",
        "Keys\n",
        "\n",
        "$H_{0}$ = Null hypothesis\n",
        "\n",
        "$H_{1}$ = Alternative hypothesis\n",
        "\n",
        "$mu_{1}$ = *Number of white people shot*\n",
        "\n",
        "$mu_{2}$ = *Number of Minority people shot*\n",
        "\n",
        "$H_{0}$: $mu_{1}$ < $mu_{2}$\n",
        "\n",
        "$H_{1}$: $mu_{1}$ > $mu_{2}$\n"
      ]
    },
    {
      "cell_type": "markdown",
      "metadata": {
        "id": "fVCZSj19kP5l"
      },
      "source": [
        "We are going to first group the races by whites and other races (minorities)."
      ]
    },
    {
      "cell_type": "code",
      "metadata": {
        "id": "5ErlrSCj-hM1"
      },
      "source": [
        "ndf = df.copy()"
      ],
      "execution_count": null,
      "outputs": []
    },
    {
      "cell_type": "code",
      "metadata": {
        "colab": {
          "base_uri": "https://localhost:8080/",
          "height": 307
        },
        "id": "_5jRje0d-hM2",
        "outputId": "fb583044-0212-4b7d-9afb-c431bd700e4e"
      },
      "source": [
        "#displaying the new copy of the datafrane\n",
        "ndf.head()"
      ],
      "execution_count": null,
      "outputs": [
        {
          "output_type": "execute_result",
          "data": {
            "text/html": [
              "<div>\n",
              "<style scoped>\n",
              "    .dataframe tbody tr th:only-of-type {\n",
              "        vertical-align: middle;\n",
              "    }\n",
              "\n",
              "    .dataframe tbody tr th {\n",
              "        vertical-align: top;\n",
              "    }\n",
              "\n",
              "    .dataframe thead th {\n",
              "        text-align: right;\n",
              "    }\n",
              "</style>\n",
              "<table border=\"1\" class=\"dataframe\">\n",
              "  <thead>\n",
              "    <tr style=\"text-align: right;\">\n",
              "      <th></th>\n",
              "      <th>id</th>\n",
              "      <th>name</th>\n",
              "      <th>date</th>\n",
              "      <th>manner_of_death</th>\n",
              "      <th>armed</th>\n",
              "      <th>age</th>\n",
              "      <th>gender</th>\n",
              "      <th>race</th>\n",
              "      <th>city</th>\n",
              "      <th>state</th>\n",
              "      <th>signs_of_mental_illness</th>\n",
              "      <th>threat_level</th>\n",
              "      <th>flee</th>\n",
              "      <th>body_camera</th>\n",
              "      <th>arms_category</th>\n",
              "    </tr>\n",
              "  </thead>\n",
              "  <tbody>\n",
              "    <tr>\n",
              "      <th>0</th>\n",
              "      <td>3</td>\n",
              "      <td>Tim Elliot</td>\n",
              "      <td>2015-01-02</td>\n",
              "      <td>shot</td>\n",
              "      <td>gun</td>\n",
              "      <td>53.0</td>\n",
              "      <td>M</td>\n",
              "      <td>Asian</td>\n",
              "      <td>Shelton</td>\n",
              "      <td>WA</td>\n",
              "      <td>True</td>\n",
              "      <td>attack</td>\n",
              "      <td>Not fleeing</td>\n",
              "      <td>False</td>\n",
              "      <td>Guns</td>\n",
              "    </tr>\n",
              "    <tr>\n",
              "      <th>1</th>\n",
              "      <td>4</td>\n",
              "      <td>Lewis Lee Lembke</td>\n",
              "      <td>2015-01-02</td>\n",
              "      <td>shot</td>\n",
              "      <td>gun</td>\n",
              "      <td>47.0</td>\n",
              "      <td>M</td>\n",
              "      <td>White</td>\n",
              "      <td>Aloha</td>\n",
              "      <td>OR</td>\n",
              "      <td>False</td>\n",
              "      <td>attack</td>\n",
              "      <td>Not fleeing</td>\n",
              "      <td>False</td>\n",
              "      <td>Guns</td>\n",
              "    </tr>\n",
              "    <tr>\n",
              "      <th>2</th>\n",
              "      <td>5</td>\n",
              "      <td>John Paul Quintero</td>\n",
              "      <td>2015-01-03</td>\n",
              "      <td>shot and Tasered</td>\n",
              "      <td>unarmed</td>\n",
              "      <td>23.0</td>\n",
              "      <td>M</td>\n",
              "      <td>Hispanic</td>\n",
              "      <td>Wichita</td>\n",
              "      <td>KS</td>\n",
              "      <td>False</td>\n",
              "      <td>other</td>\n",
              "      <td>Not fleeing</td>\n",
              "      <td>False</td>\n",
              "      <td>Unarmed</td>\n",
              "    </tr>\n",
              "    <tr>\n",
              "      <th>3</th>\n",
              "      <td>8</td>\n",
              "      <td>Matthew Hoffman</td>\n",
              "      <td>2015-01-04</td>\n",
              "      <td>shot</td>\n",
              "      <td>toy weapon</td>\n",
              "      <td>32.0</td>\n",
              "      <td>M</td>\n",
              "      <td>White</td>\n",
              "      <td>San Francisco</td>\n",
              "      <td>CA</td>\n",
              "      <td>True</td>\n",
              "      <td>attack</td>\n",
              "      <td>Not fleeing</td>\n",
              "      <td>False</td>\n",
              "      <td>Other unusual objects</td>\n",
              "    </tr>\n",
              "    <tr>\n",
              "      <th>4</th>\n",
              "      <td>9</td>\n",
              "      <td>Michael Rodriguez</td>\n",
              "      <td>2015-01-04</td>\n",
              "      <td>shot</td>\n",
              "      <td>nail gun</td>\n",
              "      <td>39.0</td>\n",
              "      <td>M</td>\n",
              "      <td>Hispanic</td>\n",
              "      <td>Evans</td>\n",
              "      <td>CO</td>\n",
              "      <td>False</td>\n",
              "      <td>attack</td>\n",
              "      <td>Not fleeing</td>\n",
              "      <td>False</td>\n",
              "      <td>Piercing objects</td>\n",
              "    </tr>\n",
              "  </tbody>\n",
              "</table>\n",
              "</div>"
            ],
            "text/plain": [
              "   id                name  ... body_camera          arms_category\n",
              "0   3          Tim Elliot  ...       False                   Guns\n",
              "1   4    Lewis Lee Lembke  ...       False                   Guns\n",
              "2   5  John Paul Quintero  ...       False                Unarmed\n",
              "3   8     Matthew Hoffman  ...       False  Other unusual objects\n",
              "4   9   Michael Rodriguez  ...       False       Piercing objects\n",
              "\n",
              "[5 rows x 15 columns]"
            ]
          },
          "metadata": {
            "tags": []
          },
          "execution_count": 272
        }
      ]
    },
    {
      "cell_type": "code",
      "metadata": {
        "colab": {
          "base_uri": "https://localhost:8080/",
          "height": 358
        },
        "id": "ngoxhrlm-hM5",
        "outputId": "b81538de-dea5-42fb-cc4f-b03aa3a2a57e"
      },
      "source": [
        "# Creating a subset with white race sample data\n",
        "\n",
        "white =  ndf.loc[df['race']=='White'] \n",
        "\n",
        "#Creating a subset with minority race sample data\n",
        "minority =  ndf.loc[df['race']!='White'] \n",
        "\n",
        "#get the shape of the dataframe\n",
        "print(white.shape)\n",
        "\n",
        "#preview the first five rows of the dataframe\n",
        "white.head()\n"
      ],
      "execution_count": null,
      "outputs": [
        {
          "output_type": "stream",
          "text": [
            "(2476, 15)\n"
          ],
          "name": "stdout"
        },
        {
          "output_type": "execute_result",
          "data": {
            "text/html": [
              "<div>\n",
              "<style scoped>\n",
              "    .dataframe tbody tr th:only-of-type {\n",
              "        vertical-align: middle;\n",
              "    }\n",
              "\n",
              "    .dataframe tbody tr th {\n",
              "        vertical-align: top;\n",
              "    }\n",
              "\n",
              "    .dataframe thead th {\n",
              "        text-align: right;\n",
              "    }\n",
              "</style>\n",
              "<table border=\"1\" class=\"dataframe\">\n",
              "  <thead>\n",
              "    <tr style=\"text-align: right;\">\n",
              "      <th></th>\n",
              "      <th>id</th>\n",
              "      <th>name</th>\n",
              "      <th>date</th>\n",
              "      <th>manner_of_death</th>\n",
              "      <th>armed</th>\n",
              "      <th>age</th>\n",
              "      <th>gender</th>\n",
              "      <th>race</th>\n",
              "      <th>city</th>\n",
              "      <th>state</th>\n",
              "      <th>signs_of_mental_illness</th>\n",
              "      <th>threat_level</th>\n",
              "      <th>flee</th>\n",
              "      <th>body_camera</th>\n",
              "      <th>arms_category</th>\n",
              "    </tr>\n",
              "  </thead>\n",
              "  <tbody>\n",
              "    <tr>\n",
              "      <th>1</th>\n",
              "      <td>4</td>\n",
              "      <td>Lewis Lee Lembke</td>\n",
              "      <td>2015-01-02</td>\n",
              "      <td>shot</td>\n",
              "      <td>gun</td>\n",
              "      <td>47.0</td>\n",
              "      <td>M</td>\n",
              "      <td>White</td>\n",
              "      <td>Aloha</td>\n",
              "      <td>OR</td>\n",
              "      <td>False</td>\n",
              "      <td>attack</td>\n",
              "      <td>Not fleeing</td>\n",
              "      <td>False</td>\n",
              "      <td>Guns</td>\n",
              "    </tr>\n",
              "    <tr>\n",
              "      <th>3</th>\n",
              "      <td>8</td>\n",
              "      <td>Matthew Hoffman</td>\n",
              "      <td>2015-01-04</td>\n",
              "      <td>shot</td>\n",
              "      <td>toy weapon</td>\n",
              "      <td>32.0</td>\n",
              "      <td>M</td>\n",
              "      <td>White</td>\n",
              "      <td>San Francisco</td>\n",
              "      <td>CA</td>\n",
              "      <td>True</td>\n",
              "      <td>attack</td>\n",
              "      <td>Not fleeing</td>\n",
              "      <td>False</td>\n",
              "      <td>Other unusual objects</td>\n",
              "    </tr>\n",
              "    <tr>\n",
              "      <th>5</th>\n",
              "      <td>11</td>\n",
              "      <td>Kenneth Joe Brown</td>\n",
              "      <td>2015-01-04</td>\n",
              "      <td>shot</td>\n",
              "      <td>gun</td>\n",
              "      <td>18.0</td>\n",
              "      <td>M</td>\n",
              "      <td>White</td>\n",
              "      <td>Guthrie</td>\n",
              "      <td>OK</td>\n",
              "      <td>False</td>\n",
              "      <td>attack</td>\n",
              "      <td>Not fleeing</td>\n",
              "      <td>False</td>\n",
              "      <td>Guns</td>\n",
              "    </tr>\n",
              "    <tr>\n",
              "      <th>7</th>\n",
              "      <td>15</td>\n",
              "      <td>Brock Nichols</td>\n",
              "      <td>2015-01-06</td>\n",
              "      <td>shot</td>\n",
              "      <td>gun</td>\n",
              "      <td>35.0</td>\n",
              "      <td>M</td>\n",
              "      <td>White</td>\n",
              "      <td>Assaria</td>\n",
              "      <td>KS</td>\n",
              "      <td>False</td>\n",
              "      <td>attack</td>\n",
              "      <td>Not fleeing</td>\n",
              "      <td>False</td>\n",
              "      <td>Guns</td>\n",
              "    </tr>\n",
              "    <tr>\n",
              "      <th>8</th>\n",
              "      <td>16</td>\n",
              "      <td>Autumn Steele</td>\n",
              "      <td>2015-01-06</td>\n",
              "      <td>shot</td>\n",
              "      <td>unarmed</td>\n",
              "      <td>34.0</td>\n",
              "      <td>F</td>\n",
              "      <td>White</td>\n",
              "      <td>Burlington</td>\n",
              "      <td>IA</td>\n",
              "      <td>False</td>\n",
              "      <td>other</td>\n",
              "      <td>Not fleeing</td>\n",
              "      <td>True</td>\n",
              "      <td>Unarmed</td>\n",
              "    </tr>\n",
              "  </tbody>\n",
              "</table>\n",
              "</div>"
            ],
            "text/plain": [
              "   id               name  ... body_camera          arms_category\n",
              "1   4   Lewis Lee Lembke  ...       False                   Guns\n",
              "3   8    Matthew Hoffman  ...       False  Other unusual objects\n",
              "5  11  Kenneth Joe Brown  ...       False                   Guns\n",
              "7  15      Brock Nichols  ...       False                   Guns\n",
              "8  16      Autumn Steele  ...        True                Unarmed\n",
              "\n",
              "[5 rows x 15 columns]"
            ]
          },
          "metadata": {
            "tags": []
          },
          "execution_count": 150
        }
      ]
    },
    {
      "cell_type": "code",
      "metadata": {
        "colab": {
          "base_uri": "https://localhost:8080/",
          "height": 341
        },
        "id": "vSHv9oYi-hM5",
        "outputId": "0e642d40-a7c9-4272-f22b-7eb4d56a234a"
      },
      "source": [
        "#get shape of the dataframe\n",
        "print(minority.shape)\n",
        "#Preview of minority dataset\n",
        "minority.head()"
      ],
      "execution_count": null,
      "outputs": [
        {
          "output_type": "stream",
          "text": [
            "(2419, 15)\n"
          ],
          "name": "stdout"
        },
        {
          "output_type": "execute_result",
          "data": {
            "text/html": [
              "<div>\n",
              "<style scoped>\n",
              "    .dataframe tbody tr th:only-of-type {\n",
              "        vertical-align: middle;\n",
              "    }\n",
              "\n",
              "    .dataframe tbody tr th {\n",
              "        vertical-align: top;\n",
              "    }\n",
              "\n",
              "    .dataframe thead th {\n",
              "        text-align: right;\n",
              "    }\n",
              "</style>\n",
              "<table border=\"1\" class=\"dataframe\">\n",
              "  <thead>\n",
              "    <tr style=\"text-align: right;\">\n",
              "      <th></th>\n",
              "      <th>id</th>\n",
              "      <th>name</th>\n",
              "      <th>date</th>\n",
              "      <th>manner_of_death</th>\n",
              "      <th>armed</th>\n",
              "      <th>age</th>\n",
              "      <th>gender</th>\n",
              "      <th>race</th>\n",
              "      <th>city</th>\n",
              "      <th>state</th>\n",
              "      <th>signs_of_mental_illness</th>\n",
              "      <th>threat_level</th>\n",
              "      <th>flee</th>\n",
              "      <th>body_camera</th>\n",
              "      <th>arms_category</th>\n",
              "    </tr>\n",
              "  </thead>\n",
              "  <tbody>\n",
              "    <tr>\n",
              "      <th>0</th>\n",
              "      <td>3</td>\n",
              "      <td>Tim Elliot</td>\n",
              "      <td>2015-01-02</td>\n",
              "      <td>shot</td>\n",
              "      <td>gun</td>\n",
              "      <td>53.0</td>\n",
              "      <td>M</td>\n",
              "      <td>Asian</td>\n",
              "      <td>Shelton</td>\n",
              "      <td>WA</td>\n",
              "      <td>True</td>\n",
              "      <td>attack</td>\n",
              "      <td>Not fleeing</td>\n",
              "      <td>False</td>\n",
              "      <td>Guns</td>\n",
              "    </tr>\n",
              "    <tr>\n",
              "      <th>2</th>\n",
              "      <td>5</td>\n",
              "      <td>John Paul Quintero</td>\n",
              "      <td>2015-01-03</td>\n",
              "      <td>shot and Tasered</td>\n",
              "      <td>unarmed</td>\n",
              "      <td>23.0</td>\n",
              "      <td>M</td>\n",
              "      <td>Hispanic</td>\n",
              "      <td>Wichita</td>\n",
              "      <td>KS</td>\n",
              "      <td>False</td>\n",
              "      <td>other</td>\n",
              "      <td>Not fleeing</td>\n",
              "      <td>False</td>\n",
              "      <td>Unarmed</td>\n",
              "    </tr>\n",
              "    <tr>\n",
              "      <th>4</th>\n",
              "      <td>9</td>\n",
              "      <td>Michael Rodriguez</td>\n",
              "      <td>2015-01-04</td>\n",
              "      <td>shot</td>\n",
              "      <td>nail gun</td>\n",
              "      <td>39.0</td>\n",
              "      <td>M</td>\n",
              "      <td>Hispanic</td>\n",
              "      <td>Evans</td>\n",
              "      <td>CO</td>\n",
              "      <td>False</td>\n",
              "      <td>attack</td>\n",
              "      <td>Not fleeing</td>\n",
              "      <td>False</td>\n",
              "      <td>Piercing objects</td>\n",
              "    </tr>\n",
              "    <tr>\n",
              "      <th>6</th>\n",
              "      <td>13</td>\n",
              "      <td>Kenneth Arnold Buck</td>\n",
              "      <td>2015-01-05</td>\n",
              "      <td>shot</td>\n",
              "      <td>gun</td>\n",
              "      <td>22.0</td>\n",
              "      <td>M</td>\n",
              "      <td>Hispanic</td>\n",
              "      <td>Chandler</td>\n",
              "      <td>AZ</td>\n",
              "      <td>False</td>\n",
              "      <td>attack</td>\n",
              "      <td>Car</td>\n",
              "      <td>False</td>\n",
              "      <td>Guns</td>\n",
              "    </tr>\n",
              "    <tr>\n",
              "      <th>9</th>\n",
              "      <td>17</td>\n",
              "      <td>Leslie Sapp III</td>\n",
              "      <td>2015-01-06</td>\n",
              "      <td>shot</td>\n",
              "      <td>toy weapon</td>\n",
              "      <td>47.0</td>\n",
              "      <td>M</td>\n",
              "      <td>Black</td>\n",
              "      <td>Knoxville</td>\n",
              "      <td>PA</td>\n",
              "      <td>False</td>\n",
              "      <td>attack</td>\n",
              "      <td>Not fleeing</td>\n",
              "      <td>False</td>\n",
              "      <td>Other unusual objects</td>\n",
              "    </tr>\n",
              "  </tbody>\n",
              "</table>\n",
              "</div>"
            ],
            "text/plain": [
              "   id                 name  ... body_camera          arms_category\n",
              "0   3           Tim Elliot  ...       False                   Guns\n",
              "2   5   John Paul Quintero  ...       False                Unarmed\n",
              "4   9    Michael Rodriguez  ...       False       Piercing objects\n",
              "6  13  Kenneth Arnold Buck  ...       False                   Guns\n",
              "9  17      Leslie Sapp III  ...       False  Other unusual objects\n",
              "\n",
              "[5 rows x 15 columns]"
            ]
          },
          "metadata": {
            "tags": []
          },
          "execution_count": 273
        }
      ]
    },
    {
      "cell_type": "code",
      "metadata": {
        "colab": {
          "base_uri": "https://localhost:8080/"
        },
        "id": "ZkMix5akeFYv",
        "outputId": "af73ce68-b2d5-46ee-bcdf-50a03eea71b7"
      },
      "source": [
        "#how many individual cases are the white dataframe\n",
        "\n",
        "white['id'].value_counts().size"
      ],
      "execution_count": null,
      "outputs": [
        {
          "output_type": "execute_result",
          "data": {
            "text/plain": [
              "2476"
            ]
          },
          "metadata": {
            "tags": []
          },
          "execution_count": 274
        }
      ]
    },
    {
      "cell_type": "code",
      "metadata": {
        "colab": {
          "base_uri": "https://localhost:8080/"
        },
        "id": "8l4aEfcMeHsq",
        "outputId": "11701ff4-4f06-4738-e008-eb968912f565"
      },
      "source": [
        "#how many individual cases are there in the minority dataframe\n",
        "\n",
        "minority['id'].value_counts().size"
      ],
      "execution_count": null,
      "outputs": [
        {
          "output_type": "execute_result",
          "data": {
            "text/plain": [
              "2419"
            ]
          },
          "metadata": {
            "tags": []
          },
          "execution_count": 203
        }
      ]
    },
    {
      "cell_type": "code",
      "metadata": {
        "id": "cTjldHpSdO1G"
      },
      "source": [
        "#we will use the ranksum function from scipy to compare the counts of the different dataframes\n",
        "#we use the valuecounts function in order to compare the occurences of the different races\n",
        "from scipy.stats import ranksums\n",
        "(t_stat, p) = ranksums(white['race'].value_counts(), minority['race'].value_counts())"
      ],
      "execution_count": null,
      "outputs": []
    },
    {
      "cell_type": "code",
      "metadata": {
        "colab": {
          "base_uri": "https://localhost:8080/"
        },
        "id": "gGZVQl5BgvPh",
        "outputId": "0332ce6b-4fb6-40ce-c6a6-02045d7b461c"
      },
      "source": [
        "#Lets get the statistic and p value figures\n",
        "\n",
        "print('Statistic=%.4f, pvalue=%.4f' % (t_stat, p))\n",
        "print('\\n')"
      ],
      "execution_count": null,
      "outputs": [
        {
          "output_type": "stream",
          "text": [
            "Statistic=1.4639, pvalue=0.1432\n",
            "\n",
            "\n"
          ],
          "name": "stdout"
        }
      ]
    },
    {
      "cell_type": "code",
      "metadata": {
        "colab": {
          "base_uri": "https://localhost:8080/"
        },
        "id": "91PsvldtgvL8",
        "outputId": "5f59f93d-b247-47c8-819f-79160ff1206f"
      },
      "source": [
        "#Are the variances between the 2 approximately equal?\n",
        "\n",
        "alpha = 0.05\n",
        "if p <= alpha:\n",
        "\tprint('The two variances are significantly different')\n",
        "else:\n",
        "\tprint('The two variances are approximately equal')\n",
        "print('\\n')\n",
        "print('\\n')"
      ],
      "execution_count": null,
      "outputs": [
        {
          "output_type": "stream",
          "text": [
            "The two variances are approximately equal\n",
            "\n",
            "\n",
            "\n",
            "\n"
          ],
          "name": "stdout"
        }
      ]
    },
    {
      "cell_type": "code",
      "metadata": {
        "colab": {
          "base_uri": "https://localhost:8080/"
        },
        "id": "T_w5R56VjSwv",
        "outputId": "458b2a54-f907-4a9b-c7f0-86a6dc1f76cd"
      },
      "source": [
        "# Conduct the independent Welch's t-test using scipy.stats, use the stats.ttest_ind() method\n",
        "#stat,p = stats.ttest_ind(white_sample['race'].value_counts(), minority_sample['race'].value_counts(), equal_var=False)\n",
        "\n",
        "print('Statistic=%.14f, pvalue=%.14f' % (t_stat, p))\n",
        "\n",
        "# Interpretation of the t-test results with 0.05 as the significance level\n",
        "alpha = 0.025 #since the test is two tailed\n",
        "if p <= alpha:\n",
        "\tprint('We reject the null hypothesis')\n",
        "else:\n",
        "\tprint('We fail to reject the null hypothesis')"
      ],
      "execution_count": null,
      "outputs": [
        {
          "output_type": "stream",
          "text": [
            "Statistic=1.46385010942280, pvalue=0.14323490752467\n",
            "We fail to reject the null hypothesis\n"
          ],
          "name": "stdout"
        }
      ]
    },
    {
      "cell_type": "markdown",
      "metadata": {
        "id": "o_MGpmmee_2q"
      },
      "source": [
        "In conclusion, the study shows no significant difference between the number of white people killed as compared to minorities.\n",
        "\n",
        "However we must take into consideration that according to the 2019 census, The white race contributed to 76% of the population. The minority races combined contributed to 24%\n",
        "\n",
        "If the number of minorities being killed is equal to the number of white people being killed, there is clearly some bias towards police killing minorities as compared to white people. i.e\n",
        "\n",
        "Total population in the US: 328.8 MILION\n",
        "\n",
        "White population in the US: 249.4 MILION\n",
        "\n",
        "Minority popluation in the US: 78.9 MILION\n",
        "\n",
        "However the number of people killed is not proportionate to the population race distribution\n",
        "\n",
        "We can therefore conclude through knowledge that:\n",
        "\n",
        "POLICE ARE MORE LIKELY TO KILL A MINORITY THAN TO KILL A WHITE PERSON\n",
        "\n",
        "\n"
      ]
    },
    {
      "cell_type": "markdown",
      "metadata": {
        "id": "R3kAC3vHwhcE"
      },
      "source": [
        "##Are police biased to shoot people between 19 and 25 years as compared to people in different age groups?\n",
        "\n"
      ]
    },
    {
      "cell_type": "markdown",
      "metadata": {
        "id": "pAhiarvCjIY7"
      },
      "source": [
        "Null hypothesis: More people between the ages of 19 - 25 are killed than other ages\n",
        "\n",
        "Alternative hypothesis: More people not within the 19 - 25 age groups are killed than those within the age group\n",
        "\n",
        "Keys\n",
        "\n",
        "$H_{0}$ = Null hypothesis\n",
        "\n",
        "$H_{1}$ = Alternative hypothesis\n",
        "\n",
        "$mu_{1}$ = *people killed within 19 - 25*\n",
        "\n",
        "$mu_{2}$ = *People killed not within 19 - 25*\n",
        "\n",
        "$H_{0}$: $mu_{1}$ > $mu_{2}$\n",
        "\n",
        "$H_{1}$: $mu_{1}$ < $mu_{2}$\n"
      ]
    },
    {
      "cell_type": "markdown",
      "metadata": {
        "id": "BPLclaXpkJNE"
      },
      "source": [
        "We are first going to group the data into 2 subsets containing the different age groups"
      ]
    },
    {
      "cell_type": "code",
      "metadata": {
        "id": "OlEa1iZqyG-v",
        "colab": {
          "base_uri": "https://localhost:8080/",
          "height": 324
        },
        "outputId": "43640921-1b6c-42db-8cdc-73d8bd589e0e"
      },
      "source": [
        "# Creating a subset with ages 19 - 25\n",
        "belnine =  ndf.loc[(df['age'] >18) & (df['age'] <26 )] \n",
        "abovefive =  ndf.loc[(df['age'] <19) | (df['age'] >25 )] \n",
        "\n",
        "belnine.head()\n",
        "abovefive.head()\n"
      ],
      "execution_count": null,
      "outputs": [
        {
          "output_type": "execute_result",
          "data": {
            "text/html": [
              "<div>\n",
              "<style scoped>\n",
              "    .dataframe tbody tr th:only-of-type {\n",
              "        vertical-align: middle;\n",
              "    }\n",
              "\n",
              "    .dataframe tbody tr th {\n",
              "        vertical-align: top;\n",
              "    }\n",
              "\n",
              "    .dataframe thead th {\n",
              "        text-align: right;\n",
              "    }\n",
              "</style>\n",
              "<table border=\"1\" class=\"dataframe\">\n",
              "  <thead>\n",
              "    <tr style=\"text-align: right;\">\n",
              "      <th></th>\n",
              "      <th>id</th>\n",
              "      <th>name</th>\n",
              "      <th>date</th>\n",
              "      <th>manner_of_death</th>\n",
              "      <th>armed</th>\n",
              "      <th>age</th>\n",
              "      <th>gender</th>\n",
              "      <th>race</th>\n",
              "      <th>city</th>\n",
              "      <th>state</th>\n",
              "      <th>signs_of_mental_illness</th>\n",
              "      <th>threat_level</th>\n",
              "      <th>flee</th>\n",
              "      <th>body_camera</th>\n",
              "      <th>arms_category</th>\n",
              "    </tr>\n",
              "  </thead>\n",
              "  <tbody>\n",
              "    <tr>\n",
              "      <th>0</th>\n",
              "      <td>3</td>\n",
              "      <td>Tim Elliot</td>\n",
              "      <td>2015-01-02</td>\n",
              "      <td>shot</td>\n",
              "      <td>gun</td>\n",
              "      <td>53.0</td>\n",
              "      <td>M</td>\n",
              "      <td>Asian</td>\n",
              "      <td>Shelton</td>\n",
              "      <td>WA</td>\n",
              "      <td>True</td>\n",
              "      <td>attack</td>\n",
              "      <td>Not fleeing</td>\n",
              "      <td>False</td>\n",
              "      <td>Guns</td>\n",
              "    </tr>\n",
              "    <tr>\n",
              "      <th>1</th>\n",
              "      <td>4</td>\n",
              "      <td>Lewis Lee Lembke</td>\n",
              "      <td>2015-01-02</td>\n",
              "      <td>shot</td>\n",
              "      <td>gun</td>\n",
              "      <td>47.0</td>\n",
              "      <td>M</td>\n",
              "      <td>White</td>\n",
              "      <td>Aloha</td>\n",
              "      <td>OR</td>\n",
              "      <td>False</td>\n",
              "      <td>attack</td>\n",
              "      <td>Not fleeing</td>\n",
              "      <td>False</td>\n",
              "      <td>Guns</td>\n",
              "    </tr>\n",
              "    <tr>\n",
              "      <th>3</th>\n",
              "      <td>8</td>\n",
              "      <td>Matthew Hoffman</td>\n",
              "      <td>2015-01-04</td>\n",
              "      <td>shot</td>\n",
              "      <td>toy weapon</td>\n",
              "      <td>32.0</td>\n",
              "      <td>M</td>\n",
              "      <td>White</td>\n",
              "      <td>San Francisco</td>\n",
              "      <td>CA</td>\n",
              "      <td>True</td>\n",
              "      <td>attack</td>\n",
              "      <td>Not fleeing</td>\n",
              "      <td>False</td>\n",
              "      <td>Other unusual objects</td>\n",
              "    </tr>\n",
              "    <tr>\n",
              "      <th>4</th>\n",
              "      <td>9</td>\n",
              "      <td>Michael Rodriguez</td>\n",
              "      <td>2015-01-04</td>\n",
              "      <td>shot</td>\n",
              "      <td>nail gun</td>\n",
              "      <td>39.0</td>\n",
              "      <td>M</td>\n",
              "      <td>Hispanic</td>\n",
              "      <td>Evans</td>\n",
              "      <td>CO</td>\n",
              "      <td>False</td>\n",
              "      <td>attack</td>\n",
              "      <td>Not fleeing</td>\n",
              "      <td>False</td>\n",
              "      <td>Piercing objects</td>\n",
              "    </tr>\n",
              "    <tr>\n",
              "      <th>5</th>\n",
              "      <td>11</td>\n",
              "      <td>Kenneth Joe Brown</td>\n",
              "      <td>2015-01-04</td>\n",
              "      <td>shot</td>\n",
              "      <td>gun</td>\n",
              "      <td>18.0</td>\n",
              "      <td>M</td>\n",
              "      <td>White</td>\n",
              "      <td>Guthrie</td>\n",
              "      <td>OK</td>\n",
              "      <td>False</td>\n",
              "      <td>attack</td>\n",
              "      <td>Not fleeing</td>\n",
              "      <td>False</td>\n",
              "      <td>Guns</td>\n",
              "    </tr>\n",
              "  </tbody>\n",
              "</table>\n",
              "</div>"
            ],
            "text/plain": [
              "   id               name  ... body_camera          arms_category\n",
              "0   3         Tim Elliot  ...       False                   Guns\n",
              "1   4   Lewis Lee Lembke  ...       False                   Guns\n",
              "3   8    Matthew Hoffman  ...       False  Other unusual objects\n",
              "4   9  Michael Rodriguez  ...       False       Piercing objects\n",
              "5  11  Kenneth Joe Brown  ...       False                   Guns\n",
              "\n",
              "[5 rows x 15 columns]"
            ]
          },
          "metadata": {
            "tags": []
          },
          "execution_count": 213
        }
      ]
    },
    {
      "cell_type": "code",
      "metadata": {
        "colab": {
          "base_uri": "https://localhost:8080/",
          "height": 341
        },
        "id": "OEJOf7vi3OmR",
        "outputId": "86af1f93-bef6-4919-d8ba-97155781164e"
      },
      "source": [
        "#previewing the frist 5 rows of 19 - 25 subset\n",
        "belnine.head()"
      ],
      "execution_count": null,
      "outputs": [
        {
          "output_type": "execute_result",
          "data": {
            "text/html": [
              "<div>\n",
              "<style scoped>\n",
              "    .dataframe tbody tr th:only-of-type {\n",
              "        vertical-align: middle;\n",
              "    }\n",
              "\n",
              "    .dataframe tbody tr th {\n",
              "        vertical-align: top;\n",
              "    }\n",
              "\n",
              "    .dataframe thead th {\n",
              "        text-align: right;\n",
              "    }\n",
              "</style>\n",
              "<table border=\"1\" class=\"dataframe\">\n",
              "  <thead>\n",
              "    <tr style=\"text-align: right;\">\n",
              "      <th></th>\n",
              "      <th>id</th>\n",
              "      <th>name</th>\n",
              "      <th>date</th>\n",
              "      <th>manner_of_death</th>\n",
              "      <th>armed</th>\n",
              "      <th>age</th>\n",
              "      <th>gender</th>\n",
              "      <th>race</th>\n",
              "      <th>city</th>\n",
              "      <th>state</th>\n",
              "      <th>signs_of_mental_illness</th>\n",
              "      <th>threat_level</th>\n",
              "      <th>flee</th>\n",
              "      <th>body_camera</th>\n",
              "      <th>arms_category</th>\n",
              "    </tr>\n",
              "  </thead>\n",
              "  <tbody>\n",
              "    <tr>\n",
              "      <th>2</th>\n",
              "      <td>5</td>\n",
              "      <td>John Paul Quintero</td>\n",
              "      <td>2015-01-03</td>\n",
              "      <td>shot and Tasered</td>\n",
              "      <td>unarmed</td>\n",
              "      <td>23.0</td>\n",
              "      <td>M</td>\n",
              "      <td>Hispanic</td>\n",
              "      <td>Wichita</td>\n",
              "      <td>KS</td>\n",
              "      <td>False</td>\n",
              "      <td>other</td>\n",
              "      <td>Not fleeing</td>\n",
              "      <td>False</td>\n",
              "      <td>Unarmed</td>\n",
              "    </tr>\n",
              "    <tr>\n",
              "      <th>6</th>\n",
              "      <td>13</td>\n",
              "      <td>Kenneth Arnold Buck</td>\n",
              "      <td>2015-01-05</td>\n",
              "      <td>shot</td>\n",
              "      <td>gun</td>\n",
              "      <td>22.0</td>\n",
              "      <td>M</td>\n",
              "      <td>Hispanic</td>\n",
              "      <td>Chandler</td>\n",
              "      <td>AZ</td>\n",
              "      <td>False</td>\n",
              "      <td>attack</td>\n",
              "      <td>Car</td>\n",
              "      <td>False</td>\n",
              "      <td>Guns</td>\n",
              "    </tr>\n",
              "    <tr>\n",
              "      <th>10</th>\n",
              "      <td>19</td>\n",
              "      <td>Patrick Wetter</td>\n",
              "      <td>2015-01-06</td>\n",
              "      <td>shot and Tasered</td>\n",
              "      <td>knife</td>\n",
              "      <td>25.0</td>\n",
              "      <td>M</td>\n",
              "      <td>White</td>\n",
              "      <td>Stockton</td>\n",
              "      <td>CA</td>\n",
              "      <td>False</td>\n",
              "      <td>attack</td>\n",
              "      <td>Not fleeing</td>\n",
              "      <td>False</td>\n",
              "      <td>Sharp objects</td>\n",
              "    </tr>\n",
              "    <tr>\n",
              "      <th>22</th>\n",
              "      <td>43</td>\n",
              "      <td>Brian  Barbosa</td>\n",
              "      <td>2015-01-11</td>\n",
              "      <td>shot</td>\n",
              "      <td>gun</td>\n",
              "      <td>23.0</td>\n",
              "      <td>M</td>\n",
              "      <td>Hispanic</td>\n",
              "      <td>South Gate</td>\n",
              "      <td>CA</td>\n",
              "      <td>False</td>\n",
              "      <td>attack</td>\n",
              "      <td>Not fleeing</td>\n",
              "      <td>False</td>\n",
              "      <td>Guns</td>\n",
              "    </tr>\n",
              "    <tr>\n",
              "      <th>26</th>\n",
              "      <td>49</td>\n",
              "      <td>Marcus Golden</td>\n",
              "      <td>2015-01-14</td>\n",
              "      <td>shot</td>\n",
              "      <td>unknown</td>\n",
              "      <td>24.0</td>\n",
              "      <td>M</td>\n",
              "      <td>Black</td>\n",
              "      <td>St. Paul</td>\n",
              "      <td>MN</td>\n",
              "      <td>False</td>\n",
              "      <td>attack</td>\n",
              "      <td>Not fleeing</td>\n",
              "      <td>False</td>\n",
              "      <td>Unknown</td>\n",
              "    </tr>\n",
              "  </tbody>\n",
              "</table>\n",
              "</div>"
            ],
            "text/plain": [
              "    id                 name  ... body_camera  arms_category\n",
              "2    5   John Paul Quintero  ...       False        Unarmed\n",
              "6   13  Kenneth Arnold Buck  ...       False           Guns\n",
              "10  19       Patrick Wetter  ...       False  Sharp objects\n",
              "22  43       Brian  Barbosa  ...       False           Guns\n",
              "26  49        Marcus Golden  ...       False        Unknown\n",
              "\n",
              "[5 rows x 15 columns]"
            ]
          },
          "metadata": {
            "tags": []
          },
          "execution_count": 292
        }
      ]
    },
    {
      "cell_type": "code",
      "metadata": {
        "colab": {
          "base_uri": "https://localhost:8080/"
        },
        "id": "ePIYZ5UQnxG6",
        "outputId": "b2f4c809-57f9-4ec6-bee5-8f31f0ae977d"
      },
      "source": [
        "#count the number of unique entries in the between 19 - 25 dataframe\n",
        "belnine['id'].value_counts().size"
      ],
      "execution_count": null,
      "outputs": [
        {
          "output_type": "execute_result",
          "data": {
            "text/plain": [
              "837"
            ]
          },
          "metadata": {
            "tags": []
          },
          "execution_count": 293
        }
      ]
    },
    {
      "cell_type": "code",
      "metadata": {
        "colab": {
          "base_uri": "https://localhost:8080/"
        },
        "id": "XmBEOeOBD2pt",
        "outputId": "15b2b7f4-6169-4a95-e217-bc32bcbd1d2d"
      },
      "source": [
        "#count the number of unique entries in the dataset that does not include ages 19 - 25 dataframe\n",
        "abovefive['id'].value_counts().size"
      ],
      "execution_count": null,
      "outputs": [
        {
          "output_type": "execute_result",
          "data": {
            "text/plain": [
              "4058"
            ]
          },
          "metadata": {
            "tags": []
          },
          "execution_count": 232
        }
      ]
    },
    {
      "cell_type": "markdown",
      "metadata": {
        "id": "UfxPyeQgkuoI"
      },
      "source": [
        "We can conclude that there are significantly more entries in the dataset that does not include the ages between 19 and 25\n"
      ]
    },
    {
      "cell_type": "code",
      "metadata": {
        "id": "4s45dva7oUi-",
        "colab": {
          "base_uri": "https://localhost:8080/"
        },
        "outputId": "69a46d09-273f-41a2-b56a-a87aa0a3ad72"
      },
      "source": [
        "# ## Check the equality of the variances between the two groups using Levene's test\n",
        "\n",
        "stat,p = stats.levene(belnine['age'], abovefive['age']) \n",
        "#we use center = mean because our samples are fairly/moderately skewed\n",
        "\n",
        "print('Statistic=%.4f, pvalue=%.4f' % (stat, p))\n",
        "print('\\n')"
      ],
      "execution_count": null,
      "outputs": [
        {
          "output_type": "stream",
          "text": [
            "Statistic=782.9762, pvalue=0.0000\n",
            "\n",
            "\n"
          ],
          "name": "stdout"
        }
      ]
    },
    {
      "cell_type": "markdown",
      "metadata": {
        "id": "1NJnTb-AlO84"
      },
      "source": [
        "The P - value of 0 tells us differences between the groups are significant.\n"
      ]
    },
    {
      "cell_type": "code",
      "metadata": {
        "id": "XEBhYeVloUa1",
        "colab": {
          "base_uri": "https://localhost:8080/"
        },
        "outputId": "ee0444a9-1428-4235-f110-3c15fa4f9a4f"
      },
      "source": [
        "#Interpretation of the Levene's test results\n",
        "\n",
        "alpha = 0.05\n",
        "if p <= alpha:\n",
        "\tprint('The two variances are significantly different')\n",
        "else:\n",
        "\tprint('The two variances are approximately equal')\n",
        "print('\\n')"
      ],
      "execution_count": null,
      "outputs": [
        {
          "output_type": "stream",
          "text": [
            "The two variances are significantly different\n",
            "\n",
            "\n"
          ],
          "name": "stdout"
        }
      ]
    },
    {
      "cell_type": "code",
      "metadata": {
        "id": "MJh8OcOfoUVK",
        "colab": {
          "base_uri": "https://localhost:8080/"
        },
        "outputId": "8d683ae4-3def-49e1-a00f-6dc18390adbd"
      },
      "source": [
        "#calculate the means\n",
        "\n",
        "# a) of the ages between 19 and 25\n",
        "\n",
        "belnine_mean = belnine['age'].mean()\n",
        "\n",
        "print('The mean of the 19 - 25  sample data race column is: ', belnine_mean)\n",
        "print('\\n')\n",
        "\n",
        "# b) of the ages below 19 and above 25\n",
        "\n",
        "abovefive_mean = abovefive['age'].mean()\n",
        "\n",
        "print('The mean of the sample not between 19 - 25 data column is: ', abovefive_mean)\n",
        "print('\\n')\n"
      ],
      "execution_count": null,
      "outputs": [
        {
          "output_type": "stream",
          "text": [
            "The mean of the 19 - 25  sample data race column is:  22.516129032258064\n",
            "\n",
            "\n",
            "The mean of the sample not between 19 - 25 data race column is:  39.44431348607697\n",
            "\n",
            "\n"
          ],
          "name": "stdout"
        }
      ]
    },
    {
      "cell_type": "markdown",
      "metadata": {
        "id": "tFtHuIgaqTap"
      },
      "source": [
        "The mean age for the different subsets are shown above\n"
      ]
    },
    {
      "cell_type": "code",
      "metadata": {
        "colab": {
          "base_uri": "https://localhost:8080/"
        },
        "id": "IVccZzzuKl0y",
        "outputId": "3fd758d7-e670-4f01-9a9e-24980dceeb55"
      },
      "source": [
        "# calculate standard deviation\n",
        "belnine_std = belnine['age'].std()\n",
        "\n",
        "print('The standard deviation of 19 - 25 data is: ', belnine_sample_std)\n",
        "print('\\n')\n",
        "\n",
        "# b) of the white race sample dataframe\n",
        "\n",
        "abovefive_std = abovefive['age'].std()\n",
        "\n",
        "print('The standard deviation of sample not between 19 - 25  is: : ', abovefive_std)\n",
        "print('\\n')"
      ],
      "execution_count": null,
      "outputs": [
        {
          "output_type": "stream",
          "text": [
            "The standard deviation of 19 - 25 data is:  1.9764320929155041\n",
            "\n",
            "\n",
            "The standard deviation of sample not between 19 - 25  is: :  12.023711042773565\n",
            "\n",
            "\n"
          ],
          "name": "stdout"
        }
      ]
    },
    {
      "cell_type": "markdown",
      "metadata": {
        "id": "G-xLrI3eqkzC"
      },
      "source": [
        "This shows us that there is a small deviation from the mean in the 19 - 25 dataset as compared to the latter"
      ]
    },
    {
      "cell_type": "code",
      "metadata": {
        "colab": {
          "base_uri": "https://localhost:8080/"
        },
        "id": "h1vlAUJzLUSd",
        "outputId": "ed8717a9-465f-4af5-dc71-fd842467d068"
      },
      "source": [
        "# calculate the standard error (se = std / sqrt(n)):\n",
        "\n",
        "# a) of the minority race sample dataframe\n",
        "\n",
        "belnine_std_error = belnine_std/ len(belnine)\n",
        "\n",
        "print('The standard error of the 19 - 25 data sample is: ', belnine_std_error)\n",
        "print('\\n')\n",
        "print('\\n')\n",
        "# b) of the white race sample dataframe\n",
        "\n",
        "abovefive_std_error = abovefive_std/ len(abovefive)\n",
        "\n",
        "print('The standard error of the sample not between 19 - 25 is ', abovefive_std_error)\n",
        "print('\\n')"
      ],
      "execution_count": null,
      "outputs": [
        {
          "output_type": "stream",
          "text": [
            "The standard error of the 19 - 25 data sample is:  0.00237048642653143\n",
            "\n",
            "\n",
            "\n",
            "\n",
            "The standard error of the sample not between 19 - 25 is  0.0029629647715065464\n",
            "\n",
            "\n"
          ],
          "name": "stdout"
        }
      ]
    },
    {
      "cell_type": "markdown",
      "metadata": {
        "id": "Z2fQPCGnrJQ1"
      },
      "source": [
        "A low standard error shows that sample means are closely distributed around the population mean — our sample is representative of your population"
      ]
    },
    {
      "cell_type": "code",
      "metadata": {
        "colab": {
          "base_uri": "https://localhost:8080/"
        },
        "id": "43jFP8vGNOH8",
        "outputId": "7702bd4a-386b-4db0-868e-1b45eb7561c5"
      },
      "source": [
        "#Calculate the difference of standard errors\n",
        "difference = sqrt(belnine_std_error**2) + sqrt(abovefive_std_error**2)\n",
        "\n",
        "print(\"the standard error of the difference between the means is:\",difference)\n",
        "print('\\n')\n"
      ],
      "execution_count": null,
      "outputs": [
        {
          "output_type": "stream",
          "text": [
            "the standard error of the difference between the means is: 0.005333451198037976\n",
            "\n",
            "\n"
          ],
          "name": "stdout"
        }
      ]
    },
    {
      "cell_type": "code",
      "metadata": {
        "colab": {
          "base_uri": "https://localhost:8080/"
        },
        "id": "tXq6GAShOaVq",
        "outputId": "5cb191b3-3e2d-4184-df8c-c10f2d602f2e"
      },
      "source": [
        "t_statistic = (belnine_mean - abovefive_mean)/difference\n",
        "\n",
        "\n",
        "print(\"The T statistic is\",t_statistic)\n",
        "print('\\n')"
      ],
      "execution_count": null,
      "outputs": [
        {
          "output_type": "stream",
          "text": [
            "The T statistic is -3173.9644416445212\n",
            "\n",
            "\n"
          ],
          "name": "stdout"
        }
      ]
    },
    {
      "cell_type": "code",
      "metadata": {
        "colab": {
          "base_uri": "https://localhost:8080/"
        },
        "id": "joLGRhPxScWA",
        "outputId": "1d402123-84db-41cd-b6a8-1474f4c6ad03"
      },
      "source": [
        "freedom = len(belnine) + len(abovefive) - 2\n",
        "\n",
        "freedom\n",
        "# find the critical value\n",
        "\n",
        "c_value = t.ppf(1.0 - alpha, freedom)\n",
        "\n",
        "c_value\n",
        "print(\"the Critical value is\", c_value)\n",
        "print('\\n')"
      ],
      "execution_count": null,
      "outputs": [
        {
          "output_type": "stream",
          "text": [
            "the Critical value is 1.9604489320530836\n",
            "\n",
            "\n"
          ],
          "name": "stdout"
        }
      ]
    },
    {
      "cell_type": "code",
      "metadata": {
        "colab": {
          "base_uri": "https://localhost:8080/"
        },
        "id": "tx6H7VaySmcM",
        "outputId": "c1f812c8-776d-4d19-864c-ddeffd52f60a"
      },
      "source": [
        "if abs(t_statistic) <= c_value:\n",
        "\tprint('Accept null hypothesis')\n",
        "else:\n",
        "\tprint('Reject the null hypothesis')"
      ],
      "execution_count": null,
      "outputs": [
        {
          "output_type": "stream",
          "text": [
            "Reject the null hypothesis\n"
          ],
          "name": "stdout"
        }
      ]
    },
    {
      "cell_type": "markdown",
      "metadata": {
        "id": "V-2DMv8Es9Pf"
      },
      "source": [
        "In conclusion, the study shows a significant difference between the number of people between the ages 19 - 25 as compared to those not within this age group.\n",
        "\n",
        "This is shown by the count of shootings within the different datasets.\n",
        "\n",
        "It is more likely for someone not within the ages 19 - 25 to be shot than one within the ages 19 -25.\n",
        "\n",
        "We can therefore conclude through knowledge that:\n",
        "\n",
        "POLICE ARE MORE LIKELY TO SHOOT SOMEONE NOT WITHIN THE AGES 19 - 25 AS COMPARED WITH SOMEONE WITHIN THE AGES 19 -25\n",
        "\n",
        "\n"
      ]
    },
    {
      "cell_type": "markdown",
      "metadata": {
        "id": "jjp1ejoNNm7a"
      },
      "source": [
        "##The findings"
      ]
    },
    {
      "cell_type": "markdown",
      "metadata": {
        "id": "A8TpQPhCNgAm"
      },
      "source": [
        "The data was skewed in the following ways:\n",
        "1. Majority of the data was mostly collected in the year\n",
        "2. Majority of the victims died through shooting\n",
        "3. Majority of the victims who were armed were armed with guns\n",
        "4. Majority of the victims were 25 year olds\n",
        "5. Majority of the victims are Male\n",
        "6. Majority of the victims are white\n",
        "7.  Majority of the shooting incidences happened in Los Angelos\n",
        "8. Most shooting incidences occured in California\n",
        "9. Majority of victims didn't show signs of mental illnesses \n",
        "10. Majority of the victims attacked the police officers\n",
        "11. Majority of the victims did not attempt to flee\n",
        "12. In majority of the incidences, Police did not have the body cameras on\n",
        "13. Majority of the armed victims had guns\n",
        "\n"
      ]
    },
    {
      "cell_type": "markdown",
      "metadata": {
        "id": "hFa0cbeFQeL1"
      },
      "source": [
        "##The Co - relations"
      ]
    },
    {
      "cell_type": "markdown",
      "metadata": {
        "id": "3-1mkUvILmM_"
      },
      "source": [
        "The strongest co-relations are\n",
        "\n",
        "1. Type Arm category and Armed\n",
        "2. Arm category and age\n",
        "3. Arm category and an attempt to flee\n",
        "4. Arm category and Manner of death\n",
        "5. Arms category and threat level\n",
        "6. Race and State location\n",
        "7. Armed and manner of death\n",
        "8. Armed and mental illness\n",
        "9. Armed and threat level\n",
        "10. Mental illness and arms category\n",
        "11. Mental illness and whether suspect was armed\n",
        "12. Mental illness and suspect attempting to flee\n",
        "13. Gender and their attempt to flee\n",
        "14. Body camera and state\n",
        "\n"
      ]
    },
    {
      "cell_type": "markdown",
      "metadata": {
        "id": "2Iqvg-lCKAv0"
      },
      "source": [
        "The weakest co-relations are\n",
        "1. Arms category and state\n",
        "2. Arms category and body camera\n",
        "3. Arms category and race\n",
        "4. Race and an attempt to flee\n",
        "5. Race and gender of victims\n",
        "6. Race and manner of death of victims\n",
        "7. Manner of death and Gender of victim\n",
        "8. Manner of death and Police body camera being on\n",
        "9. Whether vcitim was armed and state\n",
        "10. Whether victim was armed and gender\n",
        "11. Victim's mental health and manner of death\n",
        "12. Victim's mental health and gender\n",
        "13. Victim's mental health and Police body camera being on\n",
        "14. Gender and Manner of death\n",
        "15. Gender and Police body camera being on\n",
        "16. Gender and state where shooting occured\n",
        "17. Body camera being on and level of threat\n",
        "18. Attempt to flee and body camera being on\n",
        "19. Attempt to flee and victim's attempt to flee\n",
        "20. Level if threat and the victim's gendder\n"
      ]
    },
    {
      "cell_type": "markdown",
      "metadata": {
        "id": "DrZ-tT9oQlip"
      },
      "source": [
        "##The Recomendations"
      ]
    },
    {
      "cell_type": "markdown",
      "metadata": {
        "id": "QTQ26ODpQyF9"
      },
      "source": [
        "1. Banks should leverage on the high penetration of mobile phones across the region to increase the banked population\n",
        "2. Education and knowledge about money and banking should be increased. Possibly in the primary school curriculum - This is the common place to reach most of the population\n",
        "3. Farmers, self employed people and people in the informal sector should also be targeted by future marketing campaigns\n",
        "4. There is a great potential for growth of the formal banking sector\n",
        "5. Interestingly, the uptake of formal banking is equal both in rural and urban areas despite more of the skew being towards the rural population. Shows that marketing campaigns should focus their attention to the rural population."
      ]
    }
  ]
}